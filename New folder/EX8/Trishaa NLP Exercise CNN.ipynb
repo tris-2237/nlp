{
  "cells": [
    {
      "cell_type": "markdown",
      "metadata": {},
      "source": [
        "#### CNN for Text Classification"
      ]
    },
    {
      "cell_type": "code",
      "execution_count": 1,
      "metadata": {
        "id": "W279Qt2_PlBu"
      },
      "outputs": [],
      "source": [
        "import pandas as pd\n",
        "import numpy as np\n",
        "from sklearn.model_selection import train_test_split\n",
        "from sklearn.preprocessing import LabelEncoder\n",
        "from tensorflow.keras.models import Sequential\n",
        "from tensorflow.keras.layers import Embedding, Conv1D, MaxPooling1D, Flatten, Dense\n",
        "from tensorflow.keras.preprocessing.sequence import pad_sequences\n",
        "from tensorflow.keras.preprocessing.text import Tokenizer\n"
      ]
    },
    {
      "cell_type": "code",
      "execution_count": 2,
      "metadata": {
        "id": "X0ufn6ctPph6"
      },
      "outputs": [],
      "source": [
        "\n",
        "url = R\"https://raw.githubusercontent.com/dD2405/Twitter_Sentiment_Analysis/master/train.csv\"\n",
        "data = pd.read_csv(url)\n"
      ]
    },
    {
      "cell_type": "code",
      "execution_count": 3,
      "metadata": {
        "colab": {
          "base_uri": "https://localhost:8080/"
        },
        "id": "jLxYeWFBQd62",
        "outputId": "403d8e24-1bd7-4b0e-c69f-4f56351695cf"
      },
      "outputs": [
        {
          "name": "stdout",
          "output_type": "stream",
          "text": [
            "   id  label                                              tweet\n",
            "0   1      0   @user when a father is dysfunctional and is s...\n",
            "1   2      0  @user @user thanks for #lyft credit i can't us...\n",
            "2   3      0                                bihday your majesty\n",
            "3   4      0  #model   i love u take with u all the time in ...\n",
            "4   5      0             factsguide: society now    #motivation\n"
          ]
        }
      ],
      "source": [
        "\n",
        "print(data.head())"
      ]
    },
    {
      "cell_type": "code",
      "execution_count": 4,
      "metadata": {
        "id": "bITCAAfvPw_f"
      },
      "outputs": [],
      "source": [
        "data = data[[\"label\",\"tweet\"]]\n",
        "data.columns = ['sentiment', 'text']\n",
        "\n",
        "\n",
        "tokenizer = Tokenizer()\n",
        "tokenizer.fit_on_texts(data['text'])\n",
        "X = tokenizer.texts_to_sequences(data['text'])\n",
        "X = pad_sequences(X,maxlen=100)\n",
        "\n",
        "\n",
        "label_encoder = LabelEncoder()\n",
        "y = label_encoder.fit_transform(data['sentiment'])\n"
      ]
    },
    {
      "cell_type": "code",
      "execution_count": 5,
      "metadata": {
        "id": "exS-s5CjQH_F"
      },
      "outputs": [],
      "source": [
        "\n",
        "X_train, X_test, y_train, y_test = train_test_split(X, y, test_size=0.2, random_state=42)\n",
        "\n",
        "max_features = len(tokenizer.word_index) + 1\n",
        "embedding_dim = 50\n"
      ]
    },
    {
      "cell_type": "code",
      "execution_count": 6,
      "metadata": {
        "id": "dHUkTNetRXKB"
      },
      "outputs": [],
      "source": [
        "\n",
        "model = Sequential()\n",
        "model.add(Embedding(max_features, embedding_dim, input_length=100))\n",
        "model.add(Conv1D(128, 5, activation='relu'))\n",
        "model.add(MaxPooling1D(5))\n",
        "model.add(Conv1D(128, 5, activation='relu'))\n",
        "model.add(MaxPooling1D(5))\n",
        "model.add(Flatten())\n",
        "model.add(Dense(128, activation='relu'))\n",
        "model.add(Dense(1, activation='sigmoid'))\n",
        "\n",
        "\n",
        "model.compile(optimizer='adam', loss='binary_crossentropy', metrics=['accuracy'])\n"
      ]
    },
    {
      "cell_type": "code",
      "execution_count": 7,
      "metadata": {
        "colab": {
          "base_uri": "https://localhost:8080/"
        },
        "id": "o09A5msPRmsI",
        "outputId": "b5b6a994-b308-4c1f-8f9e-7baaad7f59d0"
      },
      "outputs": [
        {
          "name": "stdout",
          "output_type": "stream",
          "text": [
            "(25569, 100)\n",
            "(6393, 100)\n"
          ]
        }
      ],
      "source": [
        "print(X_train.shape)\n",
        "print(X_test.shape)"
      ]
    },
    {
      "cell_type": "code",
      "execution_count": 8,
      "metadata": {
        "colab": {
          "base_uri": "https://localhost:8080/"
        },
        "id": "sXNxh97aRrMq",
        "outputId": "708a3ac2-c243-4109-bce1-36822ed90548"
      },
      "outputs": [
        {
          "name": "stdout",
          "output_type": "stream",
          "text": [
            "Model: \"sequential\"\n",
            "_________________________________________________________________\n",
            " Layer (type)                Output Shape              Param #   \n",
            "=================================================================\n",
            " embedding (Embedding)       (None, 100, 50)           2294500   \n",
            "                                                                 \n",
            " conv1d (Conv1D)             (None, 96, 128)           32128     \n",
            "                                                                 \n",
            " max_pooling1d (MaxPooling1  (None, 19, 128)           0         \n",
            " D)                                                              \n",
            "                                                                 \n",
            " conv1d_1 (Conv1D)           (None, 15, 128)           82048     \n",
            "                                                                 \n",
            " max_pooling1d_1 (MaxPoolin  (None, 3, 128)            0         \n",
            " g1D)                                                            \n",
            "                                                                 \n",
            " flatten (Flatten)           (None, 384)               0         \n",
            "                                                                 \n",
            " dense (Dense)               (None, 128)               49280     \n",
            "                                                                 \n",
            " dense_1 (Dense)             (None, 1)                 129       \n",
            "                                                                 \n",
            "=================================================================\n",
            "Total params: 2458085 (9.38 MB)\n",
            "Trainable params: 2458085 (9.38 MB)\n",
            "Non-trainable params: 0 (0.00 Byte)\n",
            "_________________________________________________________________\n"
          ]
        }
      ],
      "source": [
        "model.summary()"
      ]
    },
    {
      "cell_type": "code",
      "execution_count": 9,
      "metadata": {
        "colab": {
          "base_uri": "https://localhost:8080/"
        },
        "id": "z6boVRIVRZOQ",
        "outputId": "170a4e38-8259-48da-bddf-fb9cb633662c"
      },
      "outputs": [
        {
          "name": "stdout",
          "output_type": "stream",
          "text": [
            "Epoch 1/5\n",
            "800/800 [==============================] - 45s 55ms/step - loss: 0.1799 - accuracy: 0.9424 - val_loss: 0.1294 - val_accuracy: 0.9545\n",
            "Epoch 2/5\n",
            "800/800 [==============================] - 43s 54ms/step - loss: 0.0664 - accuracy: 0.9772 - val_loss: 0.1293 - val_accuracy: 0.9537\n",
            "Epoch 3/5\n",
            "800/800 [==============================] - 44s 55ms/step - loss: 0.0213 - accuracy: 0.9927 - val_loss: 0.1907 - val_accuracy: 0.9537\n",
            "Epoch 4/5\n",
            "800/800 [==============================] - 43s 53ms/step - loss: 0.0073 - accuracy: 0.9974 - val_loss: 0.2635 - val_accuracy: 0.9540\n",
            "Epoch 5/5\n",
            "800/800 [==============================] - 44s 55ms/step - loss: 0.0038 - accuracy: 0.9986 - val_loss: 0.2907 - val_accuracy: 0.9409\n"
          ]
        },
        {
          "data": {
            "text/plain": [
              "<keras.src.callbacks.History at 0x7d732289dc90>"
            ]
          },
          "execution_count": 9,
          "metadata": {},
          "output_type": "execute_result"
        }
      ],
      "source": [
        "model.fit(X_train, y_train, epochs=5, batch_size=32, validation_data=(X_test, y_test))"
      ]
    },
    {
      "cell_type": "code",
      "execution_count": 12,
      "metadata": {
        "colab": {
          "base_uri": "https://localhost:8080/"
        },
        "id": "FxU4KiNnRa6i",
        "outputId": "328f606c-10f8-4325-d950-090b6639c880"
      },
      "outputs": [
        {
          "name": "stdout",
          "output_type": "stream",
          "text": [
            "enter a sentenceangry\n",
            "1/1 [==============================] - 0s 22ms/step\n",
            "Predicted sentiment: Negative\n"
          ]
        }
      ],
      "source": [
        "\n",
        "input_sentence = input(\"enter a sentence\")\n",
        "\n",
        "input_seq = tokenizer.texts_to_sequences([input_sentence])\n",
        "input_seq = pad_sequences(input_seq, maxlen=100)\n",
        "\n",
        "prediction = model.predict(input_seq)[0]\n",
        "\n",
        "\n",
        "predicted_sentiment = \"Positive\" if prediction > 0.5 else \"Negative\"\n",
        "\n",
        "print(\"Predicted sentiment:\", predicted_sentiment)"
      ]
    },
    {
      "cell_type": "markdown",
      "metadata": {},
      "source": [
        "#### Convolutional Neural Network for Modelling Sentences"
      ]
    },
    {
      "cell_type": "code",
      "execution_count": 14,
      "metadata": {
        "id": "mFry5a3dUTtg"
      },
      "outputs": [],
      "source": [
        "import numpy as np\n",
        "from tensorflow.keras.models import Sequential\n",
        "from tensorflow.keras.layers import Embedding, Conv1D, MaxPooling1D, GlobalMaxPooling1D, Dense\n",
        "from tensorflow.keras.preprocessing.text import Tokenizer\n",
        "from tensorflow.keras.preprocessing.sequence import pad_sequences\n",
        "\n",
        "sentences = [\n",
        "    \"This is a positive sentence.\",\n",
        "    \"That was a negative experience.\",\n",
        "    \"I feel neutral about this.\",\n",
        "    \"The movie was terrible.\",\n",
        "    \"I enjoyed the book.\"\n",
        "]\n",
        "\n",
        "labels = np.array([1, 0, 2, 0, 1])\n",
        "\n",
        "\n",
        "tokenizer = Tokenizer()\n",
        "tokenizer.fit_on_texts(sentences)\n",
        "vocab_size = len(tokenizer.word_index) + 1\n",
        "sequences = tokenizer.texts_to_sequences(sentences)"
      ]
    },
    {
      "cell_type": "code",
      "execution_count": 19,
      "metadata": {
        "id": "1gHLEXNMT3aH"
      },
      "outputs": [],
      "source": [
        "\n",
        "max_seq_length = 100\n",
        "padded_sequences = pad_sequences(sequences, maxlen=max_seq_length, padding='post')\n",
        "\n",
        "embedding_dim = 100\n",
        "num_filters = 128\n",
        "kernel_size = 5"
      ]
    },
    {
      "cell_type": "code",
      "execution_count": 20,
      "metadata": {
        "id": "6KMbls5qUPWl"
      },
      "outputs": [],
      "source": [
        "\n",
        "model = Sequential()\n",
        "model.add(Embedding(input_dim=vocab_size, output_dim=embedding_dim, input_length=max_seq_length))\n",
        "model.add(Conv1D(filters=num_filters, kernel_size=kernel_size, activation='relu'))\n",
        "model.add(MaxPooling1D(pool_size=2))\n",
        "model.add(Conv1D(filters=num_filters, kernel_size=kernel_size, activation='relu'))\n",
        "model.add(GlobalMaxPooling1D())\n",
        "model.add(Dense(units=3, activation='softmax'))  # Output layer with 3 units for 3 classes\n",
        "\n",
        "\n",
        "model.compile(optimizer='adam', loss='sparse_categorical_crossentropy', metrics=['accuracy'])\n"
      ]
    },
    {
      "cell_type": "code",
      "execution_count": 21,
      "metadata": {
        "colab": {
          "base_uri": "https://localhost:8080/"
        },
        "id": "hivvys52UXuZ",
        "outputId": "9b171ee3-9c6e-4d46-a96f-f67daa76abca"
      },
      "outputs": [
        {
          "name": "stdout",
          "output_type": "stream",
          "text": [
            "Epoch 1/10\n",
            "1/1 [==============================] - 1s 1s/step - loss: 1.1014 - accuracy: 0.2000\n",
            "Epoch 2/10\n",
            "1/1 [==============================] - 0s 19ms/step - loss: 1.0704 - accuracy: 0.4000\n",
            "Epoch 3/10\n",
            "1/1 [==============================] - 0s 20ms/step - loss: 1.0477 - accuracy: 0.4000\n",
            "Epoch 4/10\n",
            "1/1 [==============================] - 0s 20ms/step - loss: 1.0263 - accuracy: 0.4000\n",
            "Epoch 5/10\n",
            "1/1 [==============================] - 0s 17ms/step - loss: 1.0035 - accuracy: 0.6000\n",
            "Epoch 6/10\n",
            "1/1 [==============================] - 0s 22ms/step - loss: 0.9803 - accuracy: 0.8000\n",
            "Epoch 7/10\n",
            "1/1 [==============================] - 0s 19ms/step - loss: 0.9556 - accuracy: 0.8000\n",
            "Epoch 8/10\n",
            "1/1 [==============================] - 0s 19ms/step - loss: 0.9312 - accuracy: 0.8000\n",
            "Epoch 9/10\n",
            "1/1 [==============================] - 0s 19ms/step - loss: 0.9054 - accuracy: 0.8000\n",
            "Epoch 10/10\n",
            "1/1 [==============================] - 0s 19ms/step - loss: 0.8775 - accuracy: 0.8000\n",
            "1/1 [==============================] - 0s 176ms/step - loss: 0.8468 - accuracy: 0.8000\n",
            "Accuracy: 80.00%\n"
          ]
        }
      ],
      "source": [
        "\n",
        "model.fit(padded_sequences, labels, epochs=10, batch_size=32, verbose=1)\n",
        "\n",
        "loss, accuracy = model.evaluate(padded_sequences, labels)\n",
        "print(f'Accuracy: {accuracy * 100:.2f}%')"
      ]
    },
    {
      "cell_type": "markdown",
      "metadata": {},
      "source": [
        "#### Phoneme Detection Using Time Delay Neural Network"
      ]
    },
    {
      "cell_type": "code",
      "execution_count": 22,
      "metadata": {
        "id": "WejEE5PGUwXV"
      },
      "outputs": [],
      "source": [
        "import numpy as np\n",
        "import tensorflow as tf\n",
        "from tensorflow.keras.models import Sequential\n",
        "from tensorflow.keras.layers import Dense, TimeDistributed, Conv1D, MaxPooling1D, Flatten\n",
        "\n",
        "X = np.random.randn(1000, 10, 20)\n",
        "y = np.random.randint(0, 5, size=(1000,))\n",
        "\n"
      ]
    },
    {
      "cell_type": "code",
      "execution_count": 23,
      "metadata": {
        "colab": {
          "base_uri": "https://localhost:8080/"
        },
        "id": "uUi3BuDSVGUb",
        "outputId": "b66b4e64-0a44-4172-bf2b-87cc9c2cc207"
      },
      "outputs": [
        {
          "name": "stdout",
          "output_type": "stream",
          "text": [
            "Epoch 1/10\n",
            "25/25 [==============================] - 2s 22ms/step - loss: 1.6489 - accuracy: 0.1988 - val_loss: 1.6302 - val_accuracy: 0.1650\n",
            "Epoch 2/10\n",
            "25/25 [==============================] - 0s 8ms/step - loss: 1.5539 - accuracy: 0.3150 - val_loss: 1.6667 - val_accuracy: 0.1600\n",
            "Epoch 3/10\n",
            "25/25 [==============================] - 0s 5ms/step - loss: 1.4840 - accuracy: 0.4013 - val_loss: 1.6702 - val_accuracy: 0.1600\n",
            "Epoch 4/10\n",
            "25/25 [==============================] - 0s 5ms/step - loss: 1.4032 - accuracy: 0.4712 - val_loss: 1.6963 - val_accuracy: 0.1600\n",
            "Epoch 5/10\n",
            "25/25 [==============================] - 0s 5ms/step - loss: 1.3007 - accuracy: 0.5575 - val_loss: 1.7109 - val_accuracy: 0.1650\n",
            "Epoch 6/10\n",
            "25/25 [==============================] - 0s 5ms/step - loss: 1.1841 - accuracy: 0.6137 - val_loss: 1.8544 - val_accuracy: 0.1850\n",
            "Epoch 7/10\n",
            "25/25 [==============================] - 0s 5ms/step - loss: 1.0651 - accuracy: 0.6550 - val_loss: 1.9283 - val_accuracy: 0.1650\n",
            "Epoch 8/10\n",
            "25/25 [==============================] - 0s 5ms/step - loss: 0.8994 - accuracy: 0.7425 - val_loss: 1.9776 - val_accuracy: 0.1750\n",
            "Epoch 9/10\n",
            "25/25 [==============================] - 0s 5ms/step - loss: 0.7185 - accuracy: 0.8325 - val_loss: 2.0783 - val_accuracy: 0.1650\n",
            "Epoch 10/10\n",
            "25/25 [==============================] - 0s 5ms/step - loss: 0.5460 - accuracy: 0.8963 - val_loss: 2.2054 - val_accuracy: 0.1450\n"
          ]
        },
        {
          "data": {
            "text/plain": [
              "<keras.src.callbacks.History at 0x7d73224f2320>"
            ]
          },
          "execution_count": 23,
          "metadata": {},
          "output_type": "execute_result"
        }
      ],
      "source": [
        "\n",
        "model = Sequential([\n",
        "    Conv1D(64, kernel_size=3, activation='relu', input_shape=(10, 20)),\n",
        "    MaxPooling1D(pool_size=2),\n",
        "    Conv1D(64, kernel_size=3, activation='relu'),\n",
        "    MaxPooling1D(pool_size=2),\n",
        "    Flatten(),\n",
        "    Dense(64, activation='relu'),\n",
        "    Dense(5, activation='softmax')\n",
        "])\n",
        "\n",
        "model.compile(optimizer='adam', loss='sparse_categorical_crossentropy', metrics=['accuracy'])\n",
        "\n",
        "model.fit(X, y, epochs=10, batch_size=32, validation_split=0.2)"
      ]
    },
    {
      "cell_type": "code",
      "execution_count": null,
      "metadata": {
        "id": "7crZENz6VHgJ"
      },
      "outputs": [],
      "source": []
    }
  ],
  "metadata": {
    "colab": {
      "provenance": []
    },
    "kernelspec": {
      "display_name": "Python 3",
      "name": "python3"
    },
    "language_info": {
      "name": "python"
    }
  },
  "nbformat": 4,
  "nbformat_minor": 0
}
