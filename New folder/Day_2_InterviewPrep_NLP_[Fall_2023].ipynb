{
  "nbformat": 4,
  "nbformat_minor": 0,
  "metadata": {
    "colab": {
      "provenance": []
    },
    "kernelspec": {
      "name": "python3",
      "display_name": "Python 3"
    },
    "language_info": {
      "name": "python"
    }
  },
  "cells": [
    {
      "cell_type": "markdown",
      "source": [
        "# InterviewPrep: NLP [Fall 2023]\n",
        "## Day 2"
      ],
      "metadata": {
        "id": "1myuIEYJf7E7"
      }
    },
    {
      "cell_type": "code",
      "execution_count": null,
      "metadata": {
        "id": "5p2rUwmv6_1e"
      },
      "outputs": [],
      "source": [
        "##Importing Packages\n",
        "import numpy as np\n",
        "from sklearn.feature_extraction.text import TfidfVectorizer\n",
        "from sklearn.feature_extraction.text import CountVectorizer"
      ]
    },
    {
      "cell_type": "markdown",
      "source": [
        "**TF-IDF**"
      ],
      "metadata": {
        "id": "6rQbELXf7QxM"
      }
    },
    {
      "cell_type": "code",
      "source": [
        "Document1 = \"It is going to rain today.\"\n",
        "Document2 = \"Today I am not going Outside.\"\n",
        "Document3 = \"I am going to watch the season premiere.\""
      ],
      "metadata": {
        "id": "FdmRDRHW7PBP"
      },
      "execution_count": null,
      "outputs": []
    },
    {
      "cell_type": "code",
      "source": [
        "cou = [Document1, Document2, Document3]"
      ],
      "metadata": {
        "id": "CPPzwvtK7t6-"
      },
      "execution_count": null,
      "outputs": []
    },
    {
      "cell_type": "code",
      "source": [
        "cou"
      ],
      "metadata": {
        "colab": {
          "base_uri": "https://localhost:8080/"
        },
        "id": "lZKOKEUz7zNt",
        "outputId": "9998994a-6204-4f19-d3ba-d6f585c0d408"
      },
      "execution_count": null,
      "outputs": [
        {
          "output_type": "execute_result",
          "data": {
            "text/plain": [
              "['It is going to rain today.',\n",
              " 'Today I am not going Outside.',\n",
              " 'I am going to watch the season premiere.']"
            ]
          },
          "metadata": {},
          "execution_count": 12
        }
      ]
    },
    {
      "cell_type": "code",
      "source": [
        "tf_idf = TfidfVectorizer()"
      ],
      "metadata": {
        "id": "Jk2pKLw87z9q"
      },
      "execution_count": null,
      "outputs": []
    },
    {
      "cell_type": "code",
      "source": [
        "x = tf_idf.fit_transform(cou)"
      ],
      "metadata": {
        "id": "cPoDu-gL75fS"
      },
      "execution_count": null,
      "outputs": []
    },
    {
      "cell_type": "code",
      "source": [
        "vocab = tf_idf.vocabulary_"
      ],
      "metadata": {
        "id": "VSRuHvnD7_Ax"
      },
      "execution_count": null,
      "outputs": []
    },
    {
      "cell_type": "code",
      "source": [
        "tf_idf.get_feature_names_out()"
      ],
      "metadata": {
        "colab": {
          "base_uri": "https://localhost:8080/"
        },
        "id": "oJopF4S_8EuN",
        "outputId": "3d041039-e944-467d-9f29-f8709e10f46b"
      },
      "execution_count": null,
      "outputs": [
        {
          "output_type": "execute_result",
          "data": {
            "text/plain": [
              "array(['am', 'going', 'is', 'it', 'not', 'outside', 'premiere', 'rain',\n",
              "       'season', 'the', 'to', 'today', 'watch'], dtype=object)"
            ]
          },
          "metadata": {},
          "execution_count": 16
        }
      ]
    },
    {
      "cell_type": "code",
      "source": [
        "x.toarray()[0]"
      ],
      "metadata": {
        "colab": {
          "base_uri": "https://localhost:8080/"
        },
        "id": "Lb57deCI8br6",
        "outputId": "261fa8b2-4859-4afa-bedd-5d37a43d61b2"
      },
      "execution_count": null,
      "outputs": [
        {
          "output_type": "execute_result",
          "data": {
            "text/plain": [
              "array([0.        , 0.27824521, 0.4711101 , 0.4711101 , 0.        ,\n",
              "       0.        , 0.        , 0.4711101 , 0.        , 0.        ,\n",
              "       0.35829137, 0.35829137, 0.        ])"
            ]
          },
          "metadata": {},
          "execution_count": 18
        }
      ]
    },
    {
      "cell_type": "code",
      "source": [
        "cou[0]"
      ],
      "metadata": {
        "colab": {
          "base_uri": "https://localhost:8080/",
          "height": 36
        },
        "id": "85mTXT4d8ka3",
        "outputId": "6e54750d-def3-46fd-e25f-c8c44067ccc7"
      },
      "execution_count": null,
      "outputs": [
        {
          "output_type": "execute_result",
          "data": {
            "text/plain": [
              "'It is going to rain today.'"
            ],
            "application/vnd.google.colaboratory.intrinsic+json": {
              "type": "string"
            }
          },
          "metadata": {},
          "execution_count": 19
        }
      ]
    },
    {
      "cell_type": "code",
      "source": [
        "tf_idf.idf_[6]"
      ],
      "metadata": {
        "colab": {
          "base_uri": "https://localhost:8080/"
        },
        "id": "1mvuD34e8qCd",
        "outputId": "5ba05a53-59ad-449c-fd30-d20daee1617f"
      },
      "execution_count": null,
      "outputs": [
        {
          "output_type": "execute_result",
          "data": {
            "text/plain": [
              "1.6931471805599454"
            ]
          },
          "metadata": {},
          "execution_count": 23
        }
      ]
    },
    {
      "cell_type": "code",
      "source": [
        "for feature in tf_idf.get_feature_names_out():\n",
        "  indx = vocab[feature]\n",
        "  print(f\"Feature: {feature} - IDF Value: {tf_idf.idf_[indx]}\")"
      ],
      "metadata": {
        "colab": {
          "base_uri": "https://localhost:8080/"
        },
        "id": "N75tC-p-8vqd",
        "outputId": "501dad2d-bd5c-493b-e58f-50e04f9dfce7"
      },
      "execution_count": null,
      "outputs": [
        {
          "output_type": "stream",
          "name": "stdout",
          "text": [
            "Feature: am - IDF Value: 1.2876820724517808\n",
            "Feature: going - IDF Value: 1.0\n",
            "Feature: is - IDF Value: 1.6931471805599454\n",
            "Feature: it - IDF Value: 1.6931471805599454\n",
            "Feature: not - IDF Value: 1.6931471805599454\n",
            "Feature: outside - IDF Value: 1.6931471805599454\n",
            "Feature: premiere - IDF Value: 1.6931471805599454\n",
            "Feature: rain - IDF Value: 1.6931471805599454\n",
            "Feature: season - IDF Value: 1.6931471805599454\n",
            "Feature: the - IDF Value: 1.6931471805599454\n",
            "Feature: to - IDF Value: 1.2876820724517808\n",
            "Feature: today - IDF Value: 1.2876820724517808\n",
            "Feature: watch - IDF Value: 1.6931471805599454\n"
          ]
        }
      ]
    },
    {
      "cell_type": "markdown",
      "source": [
        "**BoW**"
      ],
      "metadata": {
        "id": "iXslBCt-9Z8c"
      }
    },
    {
      "cell_type": "code",
      "source": [
        "Document1 = \"the cat in the hat\"\n",
        "Document2 = \"the dog in the house\"\n",
        "Document3 = \"the bird in the sky\""
      ],
      "metadata": {
        "id": "RiOU-xv39WWs"
      },
      "execution_count": null,
      "outputs": []
    },
    {
      "cell_type": "code",
      "source": [
        "cou = [Document1, Document2, Document3]"
      ],
      "metadata": {
        "id": "JYfjCQ3C947J"
      },
      "execution_count": null,
      "outputs": []
    },
    {
      "cell_type": "code",
      "source": [
        "cou"
      ],
      "metadata": {
        "colab": {
          "base_uri": "https://localhost:8080/"
        },
        "id": "ihEqHyGO99Ic",
        "outputId": "6eae95b7-1a63-4717-ff25-932c85601c26"
      },
      "execution_count": null,
      "outputs": [
        {
          "output_type": "execute_result",
          "data": {
            "text/plain": [
              "['the cat in the hat', 'the dog in the house', 'the bird in the sky']"
            ]
          },
          "metadata": {},
          "execution_count": 31
        }
      ]
    },
    {
      "cell_type": "code",
      "source": [
        "bow = CountVectorizer()"
      ],
      "metadata": {
        "id": "v0a2MH4v99je"
      },
      "execution_count": null,
      "outputs": []
    },
    {
      "cell_type": "code",
      "source": [
        "dir(bow)"
      ],
      "metadata": {
        "colab": {
          "base_uri": "https://localhost:8080/"
        },
        "id": "d-2eDZ5M-CF4",
        "outputId": "8c281aec-32a0-4eb0-d52e-2feb40005e87"
      },
      "execution_count": null,
      "outputs": [
        {
          "output_type": "execute_result",
          "data": {
            "text/plain": [
              "['__annotations__',\n",
              " '__class__',\n",
              " '__delattr__',\n",
              " '__dict__',\n",
              " '__dir__',\n",
              " '__doc__',\n",
              " '__eq__',\n",
              " '__format__',\n",
              " '__ge__',\n",
              " '__getattribute__',\n",
              " '__getstate__',\n",
              " '__gt__',\n",
              " '__hash__',\n",
              " '__init__',\n",
              " '__init_subclass__',\n",
              " '__le__',\n",
              " '__lt__',\n",
              " '__module__',\n",
              " '__ne__',\n",
              " '__new__',\n",
              " '__reduce__',\n",
              " '__reduce_ex__',\n",
              " '__repr__',\n",
              " '__setattr__',\n",
              " '__setstate__',\n",
              " '__sizeof__',\n",
              " '__str__',\n",
              " '__subclasshook__',\n",
              " '__weakref__',\n",
              " '_char_ngrams',\n",
              " '_char_wb_ngrams',\n",
              " '_check_feature_names',\n",
              " '_check_n_features',\n",
              " '_check_stop_words_consistency',\n",
              " '_check_vocabulary',\n",
              " '_count_vocab',\n",
              " '_get_param_names',\n",
              " '_get_tags',\n",
              " '_limit_features',\n",
              " '_more_tags',\n",
              " '_parameter_constraints',\n",
              " '_repr_html_',\n",
              " '_repr_html_inner',\n",
              " '_repr_mimebundle_',\n",
              " '_sort_features',\n",
              " '_validate_data',\n",
              " '_validate_ngram_range',\n",
              " '_validate_params',\n",
              " '_validate_vocabulary',\n",
              " '_warn_for_unused_params',\n",
              " '_white_spaces',\n",
              " '_word_ngrams',\n",
              " 'analyzer',\n",
              " 'binary',\n",
              " 'build_analyzer',\n",
              " 'build_preprocessor',\n",
              " 'build_tokenizer',\n",
              " 'decode',\n",
              " 'decode_error',\n",
              " 'dtype',\n",
              " 'encoding',\n",
              " 'fit',\n",
              " 'fit_transform',\n",
              " 'get_feature_names_out',\n",
              " 'get_params',\n",
              " 'get_stop_words',\n",
              " 'input',\n",
              " 'inverse_transform',\n",
              " 'lowercase',\n",
              " 'max_df',\n",
              " 'max_features',\n",
              " 'min_df',\n",
              " 'ngram_range',\n",
              " 'preprocessor',\n",
              " 'set_params',\n",
              " 'stop_words',\n",
              " 'strip_accents',\n",
              " 'token_pattern',\n",
              " 'tokenizer',\n",
              " 'transform',\n",
              " 'vocabulary']"
            ]
          },
          "metadata": {},
          "execution_count": 33
        }
      ]
    },
    {
      "cell_type": "code",
      "source": [
        "x = bow.fit_transform(cou)"
      ],
      "metadata": {
        "id": "qq7Lc5sn-DnB"
      },
      "execution_count": null,
      "outputs": []
    },
    {
      "cell_type": "code",
      "source": [
        "x.toarray()[1]"
      ],
      "metadata": {
        "colab": {
          "base_uri": "https://localhost:8080/"
        },
        "id": "7QrVOseq-JAv",
        "outputId": "aba0dc71-55ad-458d-fa38-aa0806fe2185"
      },
      "execution_count": null,
      "outputs": [
        {
          "output_type": "execute_result",
          "data": {
            "text/plain": [
              "array([0, 0, 1, 0, 1, 1, 0, 2])"
            ]
          },
          "metadata": {},
          "execution_count": 39
        }
      ]
    },
    {
      "cell_type": "code",
      "source": [
        "bow.get_feature_names_out()"
      ],
      "metadata": {
        "colab": {
          "base_uri": "https://localhost:8080/"
        },
        "id": "gVMO42fS-KaL",
        "outputId": "d3ac2eb1-4f2a-4124-8a72-43e007a879f3"
      },
      "execution_count": null,
      "outputs": [
        {
          "output_type": "execute_result",
          "data": {
            "text/plain": [
              "array(['bird', 'cat', 'dog', 'hat', 'house', 'in', 'sky', 'the'],\n",
              "      dtype=object)"
            ]
          },
          "metadata": {},
          "execution_count": 36
        }
      ]
    },
    {
      "cell_type": "code",
      "source": [
        "cou[1]"
      ],
      "metadata": {
        "colab": {
          "base_uri": "https://localhost:8080/",
          "height": 36
        },
        "id": "1XIM-B_w-PCC",
        "outputId": "59029ec5-9264-4eb7-f8b7-39fa0a8b12e2"
      },
      "execution_count": null,
      "outputs": [
        {
          "output_type": "execute_result",
          "data": {
            "text/plain": [
              "'the dog in the house'"
            ],
            "application/vnd.google.colaboratory.intrinsic+json": {
              "type": "string"
            }
          },
          "metadata": {},
          "execution_count": 40
        }
      ]
    },
    {
      "cell_type": "code",
      "source": [
        "bow.vocabulary_"
      ],
      "metadata": {
        "colab": {
          "base_uri": "https://localhost:8080/"
        },
        "id": "LlLRM0hQ-R1P",
        "outputId": "6a5cd31f-6aad-4b3c-e9e0-6e61f86acaf9"
      },
      "execution_count": null,
      "outputs": [
        {
          "output_type": "execute_result",
          "data": {
            "text/plain": [
              "{'the': 7,\n",
              " 'cat': 1,\n",
              " 'in': 5,\n",
              " 'hat': 3,\n",
              " 'dog': 2,\n",
              " 'house': 4,\n",
              " 'bird': 0,\n",
              " 'sky': 6}"
            ]
          },
          "metadata": {},
          "execution_count": 41
        }
      ]
    },
    {
      "cell_type": "markdown",
      "source": [
        "**N-Gram**"
      ],
      "metadata": {
        "id": "riFd6yPp-wpZ"
      }
    },
    {
      "cell_type": "code",
      "source": [
        "text = [\"The dog in the house\"]"
      ],
      "metadata": {
        "id": "Wb_8zX4v-qQG"
      },
      "execution_count": null,
      "outputs": []
    },
    {
      "cell_type": "code",
      "source": [
        "ngram = CountVectorizer(ngram_range = (2,3))"
      ],
      "metadata": {
        "id": "Rt6MSdf4-6H3"
      },
      "execution_count": null,
      "outputs": []
    },
    {
      "cell_type": "code",
      "source": [
        "x = ngram.fit_transform(text)"
      ],
      "metadata": {
        "id": "VbAKrxdV_Gbm"
      },
      "execution_count": null,
      "outputs": []
    },
    {
      "cell_type": "code",
      "source": [
        "ngram.get_feature_names_out()"
      ],
      "metadata": {
        "colab": {
          "base_uri": "https://localhost:8080/"
        },
        "id": "JCu-oyVf_JnV",
        "outputId": "9323f6c0-a696-4caf-cc77-e1cec7e16dee"
      },
      "execution_count": null,
      "outputs": [
        {
          "output_type": "execute_result",
          "data": {
            "text/plain": [
              "array(['dog in', 'dog in the', 'in the', 'in the house', 'the dog',\n",
              "       'the dog in', 'the house'], dtype=object)"
            ]
          },
          "metadata": {},
          "execution_count": 65
        }
      ]
    },
    {
      "cell_type": "code",
      "source": [
        "x.toarray()"
      ],
      "metadata": {
        "colab": {
          "base_uri": "https://localhost:8080/"
        },
        "id": "prlG91_M_NUN",
        "outputId": "8c898c76-df40-4beb-e292-26ddcd90ac04"
      },
      "execution_count": null,
      "outputs": [
        {
          "output_type": "execute_result",
          "data": {
            "text/plain": [
              "array([[1, 1, 1, 1, 1, 1, 1]])"
            ]
          },
          "metadata": {},
          "execution_count": 66
        }
      ]
    }
  ]
}