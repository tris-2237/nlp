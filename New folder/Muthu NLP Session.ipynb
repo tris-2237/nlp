{
 "cells": [
  {
   "cell_type": "markdown",
   "id": "c91ab2b2",
   "metadata": {
    "slideshow": {
     "slide_type": "slide"
    }
   },
   "source": [
    "### Session on Word Embedding Case Study with Text Similarity Task - Muthu"
   ]
  },
  {
   "cell_type": "markdown",
   "id": "7d5877de",
   "metadata": {
    "slideshow": {
     "slide_type": "slide"
    }
   },
   "source": [
    "- NLP allows machines to understand and extract patterns from such text data by applying various techniques such as text similarity, information retrieval, document classification, entity extraction, clustering.\n",
    "- Text Similarity is one of the essential techniques of NLP which is being used to find the closeness between two chunks of text by it’s meaning or by surface.\n",
    "- Computers require data to be converted into a numeric format to perform any machine learning task.\n",
    "- In order to perform such tasks, various word embedding techniques are being used i.e., Bag of Words, TF-IDF, word2vec to encode the text data. "
   ]
  },
  {
   "cell_type": "markdown",
   "id": "5a4d032e",
   "metadata": {
    "slideshow": {
     "slide_type": "slide"
    }
   },
   "source": [
    "### Methodology\n",
    "- Text Pre-Processing\n",
    "    - Removing non-ASCII values, special characters, HTML tags, stop words, raw format conversion \n",
    "- Feature Extraction\n",
    "    - Bag-of-words, TF-IDF, Word2vec\n",
    "- Vector Similarity\n",
    "    - Cosine similarity, Euclidean distance, Jaccard distance, word mover’s distance\n",
    "- Decision Function\n",
    "    - Custom function needs to be defined to decide whether the score classifies the pair of chunks as similar or not"
   ]
  },
  {
   "cell_type": "markdown",
   "id": "5b72e1ca",
   "metadata": {
    "slideshow": {
     "slide_type": "slide"
    }
   },
   "source": [
    "### Implementation Steps"
   ]
  },
  {
   "cell_type": "markdown",
   "id": "ca1e7137",
   "metadata": {
    "slideshow": {
     "slide_type": "fragment"
    }
   },
   "source": [
    "#### Install - Packages"
   ]
  },
  {
   "cell_type": "code",
   "execution_count": 1,
   "id": "f8471743",
   "metadata": {
    "slideshow": {
     "slide_type": "fragment"
    }
   },
   "outputs": [
    {
     "name": "stderr",
     "output_type": "stream",
     "text": [
      "\n",
      "[notice] A new release of pip is available: 23.2.1 -> 24.0\n",
      "[notice] To update, run: python.exe -m pip install --upgrade pip\n"
     ]
    },
    {
     "name": "stdout",
     "output_type": "stream",
     "text": [
      "Requirement already satisfied: nltk in c:\\users\\muthu palaniappan m\\appdata\\local\\programs\\python\\python311\\lib\\site-packages (3.8.1)\n",
      "Requirement already satisfied: click in c:\\users\\muthu palaniappan m\\appdata\\local\\programs\\python\\python311\\lib\\site-packages (from nltk) (8.1.7)\n",
      "Requirement already satisfied: joblib in c:\\users\\muthu palaniappan m\\appdata\\local\\programs\\python\\python311\\lib\\site-packages (from nltk) (1.3.2)\n",
      "Requirement already satisfied: regex>=2021.8.3 in c:\\users\\muthu palaniappan m\\appdata\\local\\programs\\python\\python311\\lib\\site-packages (from nltk) (2023.8.8)\n",
      "Requirement already satisfied: tqdm in c:\\users\\muthu palaniappan m\\appdata\\local\\programs\\python\\python311\\lib\\site-packages (from nltk) (4.66.1)\n",
      "Requirement already satisfied: colorama in c:\\users\\muthu palaniappan m\\appdata\\local\\programs\\python\\python311\\lib\\site-packages (from click->nltk) (0.4.6)\n"
     ]
    }
   ],
   "source": [
    "! pip install nltk"
   ]
  },
  {
   "cell_type": "code",
   "execution_count": 61,
   "id": "90484297",
   "metadata": {
    "slideshow": {
     "slide_type": "fragment"
    }
   },
   "outputs": [
    {
     "name": "stdout",
     "output_type": "stream",
     "text": [
      "Collecting gensim\n",
      "  Obtaining dependency information for gensim from https://files.pythonhosted.org/packages/ad/97/b8253236dfedb9094f4273393a3fd03997da81f27f15822e56128da894ae/gensim-4.3.2-cp311-cp311-win_amd64.whl.metadata\n",
      "  Downloading gensim-4.3.2-cp311-cp311-win_amd64.whl.metadata (8.5 kB)\n",
      "Requirement already satisfied: numpy>=1.18.5 in c:\\users\\muthu palaniappan m\\appdata\\local\\programs\\python\\python311\\lib\\site-packages (from gensim) (1.26.0)\n",
      "Requirement already satisfied: scipy>=1.7.0 in c:\\users\\muthu palaniappan m\\appdata\\local\\programs\\python\\python311\\lib\\site-packages (from gensim) (1.11.4)\n",
      "Requirement already satisfied: smart-open>=1.8.1 in c:\\users\\muthu palaniappan m\\appdata\\local\\programs\\python\\python311\\lib\\site-packages (from gensim) (6.4.0)\n",
      "Downloading gensim-4.3.2-cp311-cp311-win_amd64.whl (24.0 MB)\n",
      "   ---------------------------------------- 0.0/24.0 MB ? eta -:--:--\n",
      "   ---------------------------------------- 0.0/24.0 MB ? eta -:--:--\n",
      "   ---------------------------------------- 0.0/24.0 MB ? eta -:--:--\n",
      "   ---------------------------------------- 0.0/24.0 MB 2.0 MB/s eta 0:00:12\n",
      "   ---------------------------------------- 0.0/24.0 MB 2.0 MB/s eta 0:00:12\n",
      "   ---------------------------------------- 0.1/24.0 MB 939.4 kB/s eta 0:00:26\n",
      "   ---------------------------------------- 0.1/24.0 MB 939.4 kB/s eta 0:00:26\n",
      "   ---------------------------------------- 0.1/24.0 MB 655.8 kB/s eta 0:00:37\n",
      "   ---------------------------------------- 0.1/24.0 MB 655.8 kB/s eta 0:00:37\n",
      "   ---------------------------------------- 0.1/24.0 MB 655.8 kB/s eta 0:00:37\n",
      "   ---------------------------------------- 0.2/24.0 MB 573.4 kB/s eta 0:00:42\n",
      "    --------------------------------------- 0.3/24.0 MB 807.1 kB/s eta 0:00:30\n",
      "    --------------------------------------- 0.5/24.0 MB 984.6 kB/s eta 0:00:24\n",
      "    --------------------------------------- 0.6/24.0 MB 1.1 MB/s eta 0:00:22\n",
      "   - -------------------------------------- 0.7/24.0 MB 1.3 MB/s eta 0:00:19\n",
      "   - -------------------------------------- 0.8/24.0 MB 1.3 MB/s eta 0:00:18\n",
      "   - -------------------------------------- 1.0/24.0 MB 1.5 MB/s eta 0:00:16\n",
      "   - -------------------------------------- 1.1/24.0 MB 1.5 MB/s eta 0:00:15\n",
      "   -- ------------------------------------- 1.2/24.0 MB 1.6 MB/s eta 0:00:14\n",
      "   -- ------------------------------------- 1.4/24.0 MB 1.7 MB/s eta 0:00:14\n",
      "   -- ------------------------------------- 1.5/24.0 MB 1.8 MB/s eta 0:00:13\n",
      "   -- ------------------------------------- 1.6/24.0 MB 1.8 MB/s eta 0:00:13\n",
      "   -- ------------------------------------- 1.7/24.0 MB 1.9 MB/s eta 0:00:12\n",
      "   --- ------------------------------------ 1.9/24.0 MB 1.9 MB/s eta 0:00:12\n",
      "   --- ------------------------------------ 2.0/24.0 MB 2.0 MB/s eta 0:00:12\n",
      "   --- ------------------------------------ 2.2/24.0 MB 2.0 MB/s eta 0:00:11\n",
      "   --- ------------------------------------ 2.3/24.0 MB 2.0 MB/s eta 0:00:11\n",
      "   --- ------------------------------------ 2.4/24.0 MB 2.1 MB/s eta 0:00:11\n",
      "   ---- ----------------------------------- 2.5/24.0 MB 2.1 MB/s eta 0:00:11\n",
      "   ---- ----------------------------------- 2.7/24.0 MB 2.1 MB/s eta 0:00:11\n",
      "   ---- ----------------------------------- 2.8/24.0 MB 2.1 MB/s eta 0:00:10\n",
      "   ---- ----------------------------------- 2.9/24.0 MB 2.2 MB/s eta 0:00:10\n",
      "   ----- ---------------------------------- 3.0/24.0 MB 2.2 MB/s eta 0:00:10\n",
      "   ----- ---------------------------------- 3.1/24.0 MB 2.2 MB/s eta 0:00:10\n",
      "   ----- ---------------------------------- 3.3/24.0 MB 2.2 MB/s eta 0:00:10\n",
      "   ----- ---------------------------------- 3.4/24.0 MB 2.2 MB/s eta 0:00:10\n",
      "   ----- ---------------------------------- 3.6/24.0 MB 2.2 MB/s eta 0:00:10\n",
      "   ------ --------------------------------- 3.7/24.0 MB 2.3 MB/s eta 0:00:10\n",
      "   ------ --------------------------------- 3.8/24.0 MB 2.3 MB/s eta 0:00:09\n",
      "   ------ --------------------------------- 3.9/24.0 MB 2.3 MB/s eta 0:00:09\n",
      "   ------ --------------------------------- 4.0/24.0 MB 2.3 MB/s eta 0:00:09\n",
      "   ------ --------------------------------- 4.1/24.0 MB 2.3 MB/s eta 0:00:09\n",
      "   ------- -------------------------------- 4.2/24.0 MB 2.3 MB/s eta 0:00:09\n",
      "   ------- -------------------------------- 4.4/24.0 MB 2.3 MB/s eta 0:00:09\n",
      "   ------- -------------------------------- 4.5/24.0 MB 2.3 MB/s eta 0:00:09\n",
      "   ------- -------------------------------- 4.6/24.0 MB 2.3 MB/s eta 0:00:09\n",
      "   ------- -------------------------------- 4.7/24.0 MB 2.3 MB/s eta 0:00:09\n",
      "   -------- ------------------------------- 4.9/24.0 MB 2.3 MB/s eta 0:00:09\n",
      "   -------- ------------------------------- 5.0/24.0 MB 2.3 MB/s eta 0:00:09\n",
      "   -------- ------------------------------- 5.1/24.0 MB 2.3 MB/s eta 0:00:09\n",
      "   -------- ------------------------------- 5.2/24.0 MB 2.3 MB/s eta 0:00:09\n",
      "   -------- ------------------------------- 5.3/24.0 MB 2.3 MB/s eta 0:00:09\n",
      "   --------- ------------------------------ 5.4/24.0 MB 2.3 MB/s eta 0:00:09\n",
      "   --------- ------------------------------ 5.5/24.0 MB 2.3 MB/s eta 0:00:08\n",
      "   --------- ------------------------------ 5.6/24.0 MB 2.3 MB/s eta 0:00:08\n",
      "   --------- ------------------------------ 5.8/24.0 MB 2.3 MB/s eta 0:00:08\n",
      "   --------- ------------------------------ 5.9/24.0 MB 2.3 MB/s eta 0:00:08\n",
      "   ---------- ----------------------------- 6.0/24.0 MB 2.4 MB/s eta 0:00:08\n",
      "   ---------- ----------------------------- 6.1/24.0 MB 2.4 MB/s eta 0:00:08\n",
      "   ---------- ----------------------------- 6.3/24.0 MB 2.4 MB/s eta 0:00:08\n",
      "   ---------- ----------------------------- 6.4/24.0 MB 2.4 MB/s eta 0:00:08\n",
      "   ---------- ----------------------------- 6.5/24.0 MB 2.4 MB/s eta 0:00:08\n",
      "   ----------- ---------------------------- 6.6/24.0 MB 2.4 MB/s eta 0:00:08\n",
      "   ----------- ---------------------------- 6.8/24.0 MB 2.4 MB/s eta 0:00:08\n",
      "   ----------- ---------------------------- 6.9/24.0 MB 2.4 MB/s eta 0:00:08\n",
      "   ----------- ---------------------------- 7.0/24.0 MB 2.4 MB/s eta 0:00:08\n",
      "   ----------- ---------------------------- 7.2/24.0 MB 2.4 MB/s eta 0:00:07\n",
      "   ------------ --------------------------- 7.3/24.0 MB 2.4 MB/s eta 0:00:07\n",
      "   ------------ --------------------------- 7.4/24.0 MB 2.4 MB/s eta 0:00:07\n",
      "   ------------ --------------------------- 7.6/24.0 MB 2.4 MB/s eta 0:00:07\n",
      "   ------------ --------------------------- 7.7/24.0 MB 2.4 MB/s eta 0:00:07\n",
      "   ------------- -------------------------- 7.8/24.0 MB 2.4 MB/s eta 0:00:07\n",
      "   ------------- -------------------------- 7.9/24.0 MB 2.4 MB/s eta 0:00:07\n",
      "   ------------- -------------------------- 8.1/24.0 MB 2.4 MB/s eta 0:00:07\n",
      "   ------------- -------------------------- 8.2/24.0 MB 2.4 MB/s eta 0:00:07\n",
      "   ------------- -------------------------- 8.3/24.0 MB 2.5 MB/s eta 0:00:07\n",
      "   -------------- ------------------------- 8.4/24.0 MB 2.5 MB/s eta 0:00:07\n",
      "   -------------- ------------------------- 8.6/24.0 MB 2.5 MB/s eta 0:00:07\n",
      "   -------------- ------------------------- 8.7/24.0 MB 2.5 MB/s eta 0:00:07\n",
      "   -------------- ------------------------- 8.8/24.0 MB 2.5 MB/s eta 0:00:07\n",
      "   -------------- ------------------------- 8.9/24.0 MB 2.5 MB/s eta 0:00:07\n",
      "   --------------- ------------------------ 9.1/24.0 MB 2.5 MB/s eta 0:00:07\n",
      "   --------------- ------------------------ 9.2/24.0 MB 2.5 MB/s eta 0:00:07\n",
      "   --------------- ------------------------ 9.3/24.0 MB 2.5 MB/s eta 0:00:06\n",
      "   --------------- ------------------------ 9.4/24.0 MB 2.5 MB/s eta 0:00:06\n",
      "   --------------- ------------------------ 9.6/24.0 MB 2.5 MB/s eta 0:00:06\n",
      "   ---------------- ----------------------- 9.7/24.0 MB 2.5 MB/s eta 0:00:06\n",
      "   ---------------- ----------------------- 9.8/24.0 MB 2.5 MB/s eta 0:00:06\n",
      "   ---------------- ----------------------- 9.9/24.0 MB 2.5 MB/s eta 0:00:06\n",
      "   ---------------- ----------------------- 10.1/24.0 MB 2.5 MB/s eta 0:00:06\n",
      "   ----------------- ---------------------- 10.2/24.0 MB 2.5 MB/s eta 0:00:06\n",
      "   ----------------- ---------------------- 10.3/24.0 MB 2.5 MB/s eta 0:00:06\n",
      "   ----------------- ---------------------- 10.5/24.0 MB 2.7 MB/s eta 0:00:06\n",
      "   ----------------- ---------------------- 10.6/24.0 MB 2.7 MB/s eta 0:00:05\n",
      "   ----------------- ---------------------- 10.7/24.0 MB 2.7 MB/s eta 0:00:05\n",
      "   ------------------ --------------------- 10.8/24.0 MB 2.7 MB/s eta 0:00:05\n",
      "   ------------------ --------------------- 11.0/24.0 MB 2.7 MB/s eta 0:00:05\n",
      "   ------------------ --------------------- 11.1/24.0 MB 2.7 MB/s eta 0:00:05\n",
      "   ------------------ --------------------- 11.2/24.0 MB 2.7 MB/s eta 0:00:05\n",
      "   ------------------ --------------------- 11.3/24.0 MB 2.7 MB/s eta 0:00:05\n",
      "   ------------------- -------------------- 11.4/24.0 MB 2.7 MB/s eta 0:00:05\n",
      "   ------------------- -------------------- 11.6/24.0 MB 2.7 MB/s eta 0:00:05\n",
      "   ------------------- -------------------- 11.7/24.0 MB 2.7 MB/s eta 0:00:05\n",
      "   ------------------- -------------------- 11.8/24.0 MB 2.7 MB/s eta 0:00:05\n",
      "   ------------------- -------------------- 12.0/24.0 MB 2.7 MB/s eta 0:00:05\n",
      "   -------------------- ------------------- 12.1/24.0 MB 2.7 MB/s eta 0:00:05\n",
      "   -------------------- ------------------- 12.2/24.0 MB 2.7 MB/s eta 0:00:05\n",
      "   -------------------- ------------------- 12.3/24.0 MB 2.7 MB/s eta 0:00:05\n",
      "   -------------------- ------------------- 12.4/24.0 MB 2.7 MB/s eta 0:00:05\n",
      "   -------------------- ------------------- 12.6/24.0 MB 2.7 MB/s eta 0:00:05\n",
      "   --------------------- ------------------ 12.7/24.0 MB 2.7 MB/s eta 0:00:05\n",
      "   --------------------- ------------------ 12.8/24.0 MB 2.7 MB/s eta 0:00:05\n",
      "   --------------------- ------------------ 13.0/24.0 MB 2.7 MB/s eta 0:00:05\n",
      "   --------------------- ------------------ 13.1/24.0 MB 2.7 MB/s eta 0:00:05\n",
      "   ---------------------- ----------------- 13.2/24.0 MB 2.7 MB/s eta 0:00:05\n",
      "   ---------------------- ----------------- 13.3/24.0 MB 2.7 MB/s eta 0:00:04\n",
      "   ---------------------- ----------------- 13.5/24.0 MB 2.7 MB/s eta 0:00:04\n",
      "   ---------------------- ----------------- 13.6/24.0 MB 2.7 MB/s eta 0:00:04\n",
      "   ---------------------- ----------------- 13.7/24.0 MB 2.7 MB/s eta 0:00:04\n",
      "   ----------------------- ---------------- 13.8/24.0 MB 2.7 MB/s eta 0:00:04\n",
      "   ----------------------- ---------------- 14.0/24.0 MB 2.7 MB/s eta 0:00:04\n",
      "   ----------------------- ---------------- 14.1/24.0 MB 2.7 MB/s eta 0:00:04\n",
      "   ----------------------- ---------------- 14.2/24.0 MB 2.7 MB/s eta 0:00:04\n",
      "   ----------------------- ---------------- 14.3/24.0 MB 2.7 MB/s eta 0:00:04\n",
      "   ------------------------ --------------- 14.4/24.0 MB 2.7 MB/s eta 0:00:04\n",
      "   ------------------------ --------------- 14.6/24.0 MB 2.7 MB/s eta 0:00:04\n",
      "   ------------------------ --------------- 14.7/24.0 MB 2.7 MB/s eta 0:00:04\n",
      "   ------------------------ --------------- 14.8/24.0 MB 2.7 MB/s eta 0:00:04\n",
      "   ------------------------ --------------- 14.9/24.0 MB 2.7 MB/s eta 0:00:04\n",
      "   ------------------------- -------------- 15.1/24.0 MB 2.7 MB/s eta 0:00:04\n",
      "   ------------------------- -------------- 15.2/24.0 MB 2.7 MB/s eta 0:00:04\n",
      "   ------------------------- -------------- 15.3/24.0 MB 2.7 MB/s eta 0:00:04\n",
      "   ------------------------- -------------- 15.4/24.0 MB 2.7 MB/s eta 0:00:04\n",
      "   ------------------------- -------------- 15.6/24.0 MB 2.7 MB/s eta 0:00:04\n",
      "   -------------------------- ------------- 15.7/24.0 MB 2.7 MB/s eta 0:00:04\n",
      "   -------------------------- ------------- 15.8/24.0 MB 2.7 MB/s eta 0:00:04\n",
      "   -------------------------- ------------- 16.0/24.0 MB 2.7 MB/s eta 0:00:03\n",
      "   -------------------------- ------------- 16.1/24.0 MB 2.7 MB/s eta 0:00:03\n",
      "   -------------------------- ------------- 16.2/24.0 MB 2.7 MB/s eta 0:00:03\n",
      "   --------------------------- ------------ 16.3/24.0 MB 2.7 MB/s eta 0:00:03\n",
      "   --------------------------- ------------ 16.4/24.0 MB 2.7 MB/s eta 0:00:03\n",
      "   --------------------------- ------------ 16.6/24.0 MB 2.7 MB/s eta 0:00:03\n",
      "   --------------------------- ------------ 16.7/24.0 MB 2.7 MB/s eta 0:00:03\n",
      "   --------------------------- ------------ 16.8/24.0 MB 2.7 MB/s eta 0:00:03\n",
      "   ---------------------------- ----------- 16.9/24.0 MB 2.7 MB/s eta 0:00:03\n",
      "   ---------------------------- ----------- 17.1/24.0 MB 2.7 MB/s eta 0:00:03\n",
      "   ---------------------------- ----------- 17.2/24.0 MB 2.7 MB/s eta 0:00:03\n",
      "   ---------------------------- ----------- 17.3/24.0 MB 2.7 MB/s eta 0:00:03\n",
      "   ----------------------------- ---------- 17.4/24.0 MB 2.7 MB/s eta 0:00:03\n",
      "   ----------------------------- ---------- 17.6/24.0 MB 2.7 MB/s eta 0:00:03\n",
      "   ----------------------------- ---------- 17.7/24.0 MB 2.7 MB/s eta 0:00:03\n",
      "   ----------------------------- ---------- 17.8/24.0 MB 2.7 MB/s eta 0:00:03\n",
      "   ----------------------------- ---------- 17.9/24.0 MB 2.7 MB/s eta 0:00:03\n",
      "   ------------------------------ --------- 18.1/24.0 MB 2.7 MB/s eta 0:00:03\n",
      "   ------------------------------ --------- 18.2/24.0 MB 2.7 MB/s eta 0:00:03\n",
      "   ------------------------------ --------- 18.3/24.0 MB 2.7 MB/s eta 0:00:03\n",
      "   ------------------------------ --------- 18.5/24.0 MB 2.7 MB/s eta 0:00:03\n",
      "   ------------------------------ --------- 18.6/24.0 MB 2.7 MB/s eta 0:00:03\n",
      "   ------------------------------- -------- 18.6/24.0 MB 2.7 MB/s eta 0:00:02\n",
      "   ------------------------------- -------- 18.8/24.0 MB 2.7 MB/s eta 0:00:02\n",
      "   ------------------------------- -------- 19.0/24.0 MB 2.7 MB/s eta 0:00:02\n",
      "   ------------------------------- -------- 19.0/24.0 MB 2.7 MB/s eta 0:00:02\n",
      "   ------------------------------- -------- 19.2/24.0 MB 2.7 MB/s eta 0:00:02\n",
      "   -------------------------------- ------- 19.3/24.0 MB 2.7 MB/s eta 0:00:02\n",
      "   -------------------------------- ------- 19.4/24.0 MB 2.7 MB/s eta 0:00:02\n",
      "   -------------------------------- ------- 19.6/24.0 MB 2.7 MB/s eta 0:00:02\n",
      "   -------------------------------- ------- 19.7/24.0 MB 2.7 MB/s eta 0:00:02\n",
      "   --------------------------------- ------ 19.8/24.0 MB 2.7 MB/s eta 0:00:02\n",
      "   --------------------------------- ------ 20.0/24.0 MB 2.7 MB/s eta 0:00:02\n",
      "   --------------------------------- ------ 20.1/24.0 MB 2.7 MB/s eta 0:00:02\n",
      "   --------------------------------- ------ 20.2/24.0 MB 2.7 MB/s eta 0:00:02\n",
      "   --------------------------------- ------ 20.3/24.0 MB 2.7 MB/s eta 0:00:02\n",
      "   ---------------------------------- ----- 20.4/24.0 MB 2.7 MB/s eta 0:00:02\n",
      "   ---------------------------------- ----- 20.5/24.0 MB 2.7 MB/s eta 0:00:02\n",
      "   ---------------------------------- ----- 20.7/24.0 MB 2.7 MB/s eta 0:00:02\n",
      "   ---------------------------------- ----- 20.8/24.0 MB 2.7 MB/s eta 0:00:02\n",
      "   ---------------------------------- ----- 20.9/24.0 MB 2.7 MB/s eta 0:00:02\n",
      "   ----------------------------------- ---- 21.1/24.0 MB 2.7 MB/s eta 0:00:02\n",
      "   ----------------------------------- ---- 21.1/24.0 MB 2.7 MB/s eta 0:00:02\n",
      "   ----------------------------------- ---- 21.3/24.0 MB 2.7 MB/s eta 0:00:02\n",
      "   ----------------------------------- ---- 21.4/24.0 MB 2.7 MB/s eta 0:00:01\n",
      "   ----------------------------------- ---- 21.5/24.0 MB 2.7 MB/s eta 0:00:01\n",
      "   ------------------------------------ --- 21.7/24.0 MB 2.7 MB/s eta 0:00:01\n",
      "   ------------------------------------ --- 21.8/24.0 MB 2.7 MB/s eta 0:00:01\n",
      "   ------------------------------------ --- 21.9/24.0 MB 2.7 MB/s eta 0:00:01\n",
      "   ------------------------------------ --- 22.0/24.0 MB 2.7 MB/s eta 0:00:01\n",
      "   ------------------------------------ --- 22.2/24.0 MB 2.7 MB/s eta 0:00:01\n",
      "   ------------------------------------- -- 22.3/24.0 MB 2.7 MB/s eta 0:00:01\n",
      "   ------------------------------------- -- 22.4/24.0 MB 2.7 MB/s eta 0:00:01\n",
      "   ------------------------------------- -- 22.5/24.0 MB 2.7 MB/s eta 0:00:01\n",
      "   ------------------------------------- -- 22.6/24.0 MB 2.7 MB/s eta 0:00:01\n",
      "   ------------------------------------- -- 22.8/24.0 MB 2.7 MB/s eta 0:00:01\n",
      "   -------------------------------------- - 22.9/24.0 MB 2.7 MB/s eta 0:00:01\n",
      "   -------------------------------------- - 23.0/24.0 MB 2.7 MB/s eta 0:00:01\n",
      "   -------------------------------------- - 23.1/24.0 MB 2.7 MB/s eta 0:00:01\n",
      "   -------------------------------------- - 23.3/24.0 MB 2.7 MB/s eta 0:00:01\n",
      "   -------------------------------------- - 23.4/24.0 MB 2.7 MB/s eta 0:00:01\n",
      "   ---------------------------------------  23.5/24.0 MB 2.7 MB/s eta 0:00:01\n",
      "   ---------------------------------------  23.6/24.0 MB 2.7 MB/s eta 0:00:01\n",
      "   ---------------------------------------  23.7/24.0 MB 2.7 MB/s eta 0:00:01\n",
      "   ---------------------------------------  23.9/24.0 MB 2.7 MB/s eta 0:00:01\n",
      "   ---------------------------------------  24.0/24.0 MB 2.7 MB/s eta 0:00:01\n",
      "   ---------------------------------------  24.0/24.0 MB 2.7 MB/s eta 0:00:01\n",
      "   ---------------------------------------- 24.0/24.0 MB 2.6 MB/s eta 0:00:00\n",
      "Installing collected packages: gensim\n",
      "Successfully installed gensim-4.3.2\n"
     ]
    },
    {
     "name": "stderr",
     "output_type": "stream",
     "text": [
      "\n",
      "[notice] A new release of pip is available: 23.2.1 -> 24.0\n",
      "[notice] To update, run: python.exe -m pip install --upgrade pip\n"
     ]
    }
   ],
   "source": [
    "! pip install gensim"
   ]
  },
  {
   "cell_type": "code",
   "execution_count": 189,
   "id": "aa6e2ef4",
   "metadata": {
    "slideshow": {
     "slide_type": "slide"
    }
   },
   "outputs": [],
   "source": [
    "import nltk\n",
    "from nltk import word_tokenize\n",
    "from nltk.corpus import stopwords\n",
    "from unidecode import unidecode\n",
    "import string\n",
    "from nltk.stem import WordNetLemmatizer\n",
    "from nltk.tokenize import word_tokenize\n",
    "from sklearn.feature_extraction.text import TfidfVectorizer\n",
    "from gensim.models.word2vec import Word2Vec\n",
    "import gensim.downloader as api\n",
    "from sklearn.metrics.pairwise import cosine_similarity\n",
    "from sklearn.feature_extraction.text import CountVectorizer\n",
    "import gensim\n",
    "import numpy as np"
   ]
  },
  {
   "cell_type": "markdown",
   "id": "52b10ea2",
   "metadata": {
    "slideshow": {
     "slide_type": "slide"
    }
   },
   "source": [
    "#### Pre-Processing"
   ]
  },
  {
   "cell_type": "code",
   "execution_count": 190,
   "id": "d74ff9d5",
   "metadata": {
    "slideshow": {
     "slide_type": "subslide"
    }
   },
   "outputs": [],
   "source": [
    "def pre_process(corpus):\n",
    "    # convert input corpus to lower case.\n",
    "    corpus = corpus.lower()\n",
    "    # collecting a list of stop words from nltk and punctuation form\n",
    "    # string class and create single array.\n",
    "    stopset = stopwords.words('english') + list(string.punctuation)\n",
    "    # remove stop words and punctuations from string.\n",
    "    # word_tokenize is used to tokenize the input corpus in word tokens.\n",
    "    corpus = \" \".join([i for i in word_tokenize(corpus) if i not in stopset])\n",
    "    # remove non-ascii characters\n",
    "    corpus = unidecode(corpus)\n",
    "    return corpus"
   ]
  },
  {
   "cell_type": "code",
   "execution_count": 191,
   "id": "9a29c19a",
   "metadata": {
    "slideshow": {
     "slide_type": "fragment"
    }
   },
   "outputs": [
    {
     "data": {
      "text/plain": [
       "'sample non ascii cenia remove stopwords punctuations'"
      ]
     },
     "execution_count": 191,
     "metadata": {},
     "output_type": "execute_result"
    }
   ],
   "source": [
    "pre_process(\"Sample of non ASCII: Ceñía. How to remove stopwords and punctuations?\")"
   ]
  },
  {
   "cell_type": "markdown",
   "id": "239b26de",
   "metadata": {
    "slideshow": {
     "slide_type": "slide"
    }
   },
   "source": [
    "#### Lemmatization"
   ]
  },
  {
   "cell_type": "code",
   "execution_count": 192,
   "id": "774c04ea",
   "metadata": {
    "slideshow": {
     "slide_type": "subslide"
    }
   },
   "outputs": [
    {
     "name": "stdout",
     "output_type": "stream",
     "text": [
      "I  :  I\n",
      "am  :  am\n",
      "taking  :  taking\n",
      "NLP  :  NLP\n",
      "sessions  :  session\n",
      "on  :  on\n",
      "text  :  text\n",
      "similarity  :  similarity\n"
     ]
    }
   ],
   "source": [
    "lemmatizer = WordNetLemmatizer()\n",
    "sentence = \"I am taking NLP sessions on text similarity\"\n",
    "words = word_tokenize(sentence)\n",
    "for w in words:\n",
    "    print(w, \" : \", lemmatizer.lemmatize(w))"
   ]
  },
  {
   "cell_type": "markdown",
   "id": "ccdd7412",
   "metadata": {
    "slideshow": {
     "slide_type": "slide"
    }
   },
   "source": [
    "### Corpus"
   ]
  },
  {
   "cell_type": "code",
   "execution_count": 193,
   "id": "622c859d",
   "metadata": {
    "slideshow": {
     "slide_type": "subslide"
    }
   },
   "outputs": [],
   "source": [
    "## Sentence Pair\n",
    "corpus = [\"A girl is styling her hair.\", \"A girl is brushing her hair.\",\n",
    "          \"I am teaching NLP\"]"
   ]
  },
  {
   "cell_type": "code",
   "execution_count": 194,
   "id": "34608f32",
   "metadata": {
    "slideshow": {
     "slide_type": "subslide"
    }
   },
   "outputs": [],
   "source": [
    "for c in range(len(corpus)):\n",
    "    corpus[c] = pre_process(corpus[c])"
   ]
  },
  {
   "cell_type": "markdown",
   "id": "ee84ca4f",
   "metadata": {
    "slideshow": {
     "slide_type": "slide"
    }
   },
   "source": [
    "### Feature Extraction"
   ]
  },
  {
   "cell_type": "markdown",
   "id": "1031a052",
   "metadata": {
    "slideshow": {
     "slide_type": "subslide"
    }
   },
   "source": [
    "#### Count Vectorizer"
   ]
  },
  {
   "cell_type": "code",
   "execution_count": 195,
   "id": "ed04457c",
   "metadata": {
    "slideshow": {
     "slide_type": "fragment"
    }
   },
   "outputs": [],
   "source": [
    "cv = CountVectorizer()\n",
    "count_matrix = cv.fit_transform(corpus)"
   ]
  },
  {
   "cell_type": "code",
   "execution_count": 196,
   "id": "3b76c3ee",
   "metadata": {
    "slideshow": {
     "slide_type": "fragment"
    }
   },
   "outputs": [
    {
     "data": {
      "text/plain": [
       "{'girl': 1, 'styling': 4, 'hair': 2, 'brushing': 0, 'teaching': 5, 'nlp': 3}"
      ]
     },
     "execution_count": 196,
     "metadata": {},
     "output_type": "execute_result"
    }
   ],
   "source": [
    "cv.vocabulary_"
   ]
  },
  {
   "cell_type": "code",
   "execution_count": 197,
   "id": "7007b9be",
   "metadata": {
    "slideshow": {
     "slide_type": "fragment"
    }
   },
   "outputs": [
    {
     "name": "stdout",
     "output_type": "stream",
     "text": [
      "girl styling hair - > [0 1 1 0 1 0]\n",
      "girl brushing hair - > [1 1 1 0 0 0]\n",
      "teaching nlp - > [0 0 0 1 0 1]\n"
     ]
    }
   ],
   "source": [
    "count_v_features = {}\n",
    "for index,feature in enumerate(count_matrix.toarray()):\n",
    "    count_v_features[index] = feature\n",
    "    print(f\"{corpus[index]} - > {feature}\")"
   ]
  },
  {
   "cell_type": "markdown",
   "id": "da5375f6",
   "metadata": {
    "slideshow": {
     "slide_type": "slide"
    }
   },
   "source": [
    "#### TF-IDF"
   ]
  },
  {
   "cell_type": "code",
   "execution_count": 198,
   "id": "5d0befbe",
   "metadata": {
    "slideshow": {
     "slide_type": "subslide"
    }
   },
   "outputs": [
    {
     "data": {
      "text/html": [
       "<style>#sk-container-id-3 {color: black;}#sk-container-id-3 pre{padding: 0;}#sk-container-id-3 div.sk-toggleable {background-color: white;}#sk-container-id-3 label.sk-toggleable__label {cursor: pointer;display: block;width: 100%;margin-bottom: 0;padding: 0.3em;box-sizing: border-box;text-align: center;}#sk-container-id-3 label.sk-toggleable__label-arrow:before {content: \"▸\";float: left;margin-right: 0.25em;color: #696969;}#sk-container-id-3 label.sk-toggleable__label-arrow:hover:before {color: black;}#sk-container-id-3 div.sk-estimator:hover label.sk-toggleable__label-arrow:before {color: black;}#sk-container-id-3 div.sk-toggleable__content {max-height: 0;max-width: 0;overflow: hidden;text-align: left;background-color: #f0f8ff;}#sk-container-id-3 div.sk-toggleable__content pre {margin: 0.2em;color: black;border-radius: 0.25em;background-color: #f0f8ff;}#sk-container-id-3 input.sk-toggleable__control:checked~div.sk-toggleable__content {max-height: 200px;max-width: 100%;overflow: auto;}#sk-container-id-3 input.sk-toggleable__control:checked~label.sk-toggleable__label-arrow:before {content: \"▾\";}#sk-container-id-3 div.sk-estimator input.sk-toggleable__control:checked~label.sk-toggleable__label {background-color: #d4ebff;}#sk-container-id-3 div.sk-label input.sk-toggleable__control:checked~label.sk-toggleable__label {background-color: #d4ebff;}#sk-container-id-3 input.sk-hidden--visually {border: 0;clip: rect(1px 1px 1px 1px);clip: rect(1px, 1px, 1px, 1px);height: 1px;margin: -1px;overflow: hidden;padding: 0;position: absolute;width: 1px;}#sk-container-id-3 div.sk-estimator {font-family: monospace;background-color: #f0f8ff;border: 1px dotted black;border-radius: 0.25em;box-sizing: border-box;margin-bottom: 0.5em;}#sk-container-id-3 div.sk-estimator:hover {background-color: #d4ebff;}#sk-container-id-3 div.sk-parallel-item::after {content: \"\";width: 100%;border-bottom: 1px solid gray;flex-grow: 1;}#sk-container-id-3 div.sk-label:hover label.sk-toggleable__label {background-color: #d4ebff;}#sk-container-id-3 div.sk-serial::before {content: \"\";position: absolute;border-left: 1px solid gray;box-sizing: border-box;top: 0;bottom: 0;left: 50%;z-index: 0;}#sk-container-id-3 div.sk-serial {display: flex;flex-direction: column;align-items: center;background-color: white;padding-right: 0.2em;padding-left: 0.2em;position: relative;}#sk-container-id-3 div.sk-item {position: relative;z-index: 1;}#sk-container-id-3 div.sk-parallel {display: flex;align-items: stretch;justify-content: center;background-color: white;position: relative;}#sk-container-id-3 div.sk-item::before, #sk-container-id-3 div.sk-parallel-item::before {content: \"\";position: absolute;border-left: 1px solid gray;box-sizing: border-box;top: 0;bottom: 0;left: 50%;z-index: -1;}#sk-container-id-3 div.sk-parallel-item {display: flex;flex-direction: column;z-index: 1;position: relative;background-color: white;}#sk-container-id-3 div.sk-parallel-item:first-child::after {align-self: flex-end;width: 50%;}#sk-container-id-3 div.sk-parallel-item:last-child::after {align-self: flex-start;width: 50%;}#sk-container-id-3 div.sk-parallel-item:only-child::after {width: 0;}#sk-container-id-3 div.sk-dashed-wrapped {border: 1px dashed gray;margin: 0 0.4em 0.5em 0.4em;box-sizing: border-box;padding-bottom: 0.4em;background-color: white;}#sk-container-id-3 div.sk-label label {font-family: monospace;font-weight: bold;display: inline-block;line-height: 1.2em;}#sk-container-id-3 div.sk-label-container {text-align: center;}#sk-container-id-3 div.sk-container {/* jupyter's `normalize.less` sets `[hidden] { display: none; }` but bootstrap.min.css set `[hidden] { display: none !important; }` so we also need the `!important` here to be able to override the default hidden behavior on the sphinx rendered scikit-learn.org. See: https://github.com/scikit-learn/scikit-learn/issues/21755 */display: inline-block !important;position: relative;}#sk-container-id-3 div.sk-text-repr-fallback {display: none;}</style><div id=\"sk-container-id-3\" class=\"sk-top-container\"><div class=\"sk-text-repr-fallback\"><pre>TfidfVectorizer(ngram_range=(1, 2))</pre><b>In a Jupyter environment, please rerun this cell to show the HTML representation or trust the notebook. <br />On GitHub, the HTML representation is unable to render, please try loading this page with nbviewer.org.</b></div><div class=\"sk-container\" hidden><div class=\"sk-item\"><div class=\"sk-estimator sk-toggleable\"><input class=\"sk-toggleable__control sk-hidden--visually\" id=\"sk-estimator-id-3\" type=\"checkbox\" checked><label for=\"sk-estimator-id-3\" class=\"sk-toggleable__label sk-toggleable__label-arrow\">TfidfVectorizer</label><div class=\"sk-toggleable__content\"><pre>TfidfVectorizer(ngram_range=(1, 2))</pre></div></div></div></div></div>"
      ],
      "text/plain": [
       "TfidfVectorizer(ngram_range=(1, 2))"
      ]
     },
     "execution_count": 198,
     "metadata": {},
     "output_type": "execute_result"
    }
   ],
   "source": [
    "## creating vocabulary using uni-gram and bi-gram\n",
    "tfidf_vectorizer = TfidfVectorizer(ngram_range=(1,2))\n",
    "tfidf_vectorizer.fit(corpus)"
   ]
  },
  {
   "cell_type": "code",
   "execution_count": 199,
   "id": "0b2b37bb",
   "metadata": {
    "scrolled": true,
    "slideshow": {
     "slide_type": "fragment"
    }
   },
   "outputs": [
    {
     "data": {
      "text/plain": [
       "{'girl': 2,\n",
       " 'styling': 7,\n",
       " 'hair': 5,\n",
       " 'girl styling': 4,\n",
       " 'styling hair': 8,\n",
       " 'brushing': 0,\n",
       " 'girl brushing': 3,\n",
       " 'brushing hair': 1,\n",
       " 'teaching': 9,\n",
       " 'nlp': 6,\n",
       " 'teaching nlp': 10}"
      ]
     },
     "execution_count": 199,
     "metadata": {},
     "output_type": "execute_result"
    }
   ],
   "source": [
    "tfidf_vectorizer.vocabulary_"
   ]
  },
  {
   "cell_type": "code",
   "execution_count": 200,
   "id": "1476c236",
   "metadata": {
    "slideshow": {
     "slide_type": "fragment"
    }
   },
   "outputs": [],
   "source": [
    "feature_vectors = tfidf_vectorizer.transform(corpus)"
   ]
  },
  {
   "cell_type": "code",
   "execution_count": 201,
   "id": "d759125b",
   "metadata": {
    "slideshow": {
     "slide_type": "fragment"
    }
   },
   "outputs": [],
   "source": [
    "tf_idf_feature_vectors = {}\n",
    "for index,feature in enumerate(feature_vectors.toarray()):\n",
    "    tf_idf_feature_vectors[index] = feature"
   ]
  },
  {
   "cell_type": "code",
   "execution_count": 202,
   "id": "f7b35728",
   "metadata": {
    "slideshow": {
     "slide_type": "slide"
    }
   },
   "outputs": [
    {
     "name": "stdout",
     "output_type": "stream",
     "text": [
      "Sentence: girl styling hair\n",
      "\n",
      "Feature Representation: [0.         0.         0.37302199 0.         0.49047908 0.37302199\n",
      " 0.         0.49047908 0.49047908 0.         0.        ]\n"
     ]
    }
   ],
   "source": [
    "print(f\"Sentence: {corpus[0]}\\n\\nFeature Representation: {feature_vectors.toarray()[0]}\")"
   ]
  },
  {
   "cell_type": "code",
   "execution_count": 203,
   "id": "30788ebc",
   "metadata": {
    "slideshow": {
     "slide_type": "fragment"
    }
   },
   "outputs": [
    {
     "name": "stdout",
     "output_type": "stream",
     "text": [
      "Sentence: girl brushing hair\n",
      "\n",
      "Feature Representation: [0.49047908 0.49047908 0.37302199 0.49047908 0.         0.37302199\n",
      " 0.         0.         0.         0.         0.        ]\n"
     ]
    }
   ],
   "source": [
    "print(f\"Sentence: {corpus[1]}\\n\\nFeature Representation: {feature_vectors.toarray()[1]}\")"
   ]
  },
  {
   "cell_type": "code",
   "execution_count": 204,
   "id": "41741112",
   "metadata": {
    "slideshow": {
     "slide_type": "fragment"
    }
   },
   "outputs": [
    {
     "name": "stdout",
     "output_type": "stream",
     "text": [
      "Sentence: teaching nlp\n",
      "\n",
      "Feature Representation: [0.         0.         0.         0.         0.         0.\n",
      " 0.57735027 0.         0.         0.57735027 0.57735027]\n"
     ]
    }
   ],
   "source": [
    "print(f\"Sentence: {corpus[2]}\\n\\nFeature Representation: {feature_vectors.toarray()[2]}\")"
   ]
  },
  {
   "cell_type": "code",
   "execution_count": 205,
   "id": "696617fe",
   "metadata": {
    "slideshow": {
     "slide_type": "slide"
    }
   },
   "outputs": [
    {
     "name": "stdout",
     "output_type": "stream",
     "text": [
      "girl styling hair\n",
      "\n",
      "girl - > 0.3730219858594306\n",
      "styling - > 0.49047908420610337\n",
      "hair - > 0.3730219858594306\n",
      "girl styling - > 0.49047908420610337\n",
      "styling hair - > 0.49047908420610337\n",
      "brushing - > 0.0\n",
      "girl brushing - > 0.0\n",
      "brushing hair - > 0.0\n",
      "teaching - > 0.0\n",
      "nlp - > 0.0\n",
      "teaching nlp - > 0.0\n"
     ]
    }
   ],
   "source": [
    "mapped_features = {}\n",
    "for word, index in tfidf_vectorizer.vocabulary_.items():\n",
    "    mapped_features[word] = feature_vectors.toarray()[0][index]\n",
    "print(f\"{corpus[0]}\\n\")\n",
    "for word,feature_weight in mapped_features.items():\n",
    "    print(f\"{word} - > {feature_weight}\")"
   ]
  },
  {
   "cell_type": "code",
   "execution_count": 206,
   "id": "853fb1ca",
   "metadata": {
    "slideshow": {
     "slide_type": "slide"
    }
   },
   "outputs": [
    {
     "name": "stdout",
     "output_type": "stream",
     "text": [
      "girl brushing hair\n",
      "\n",
      "girl - > 0.3730219858594306\n",
      "styling - > 0.0\n",
      "hair - > 0.3730219858594306\n",
      "girl styling - > 0.0\n",
      "styling hair - > 0.0\n",
      "brushing - > 0.49047908420610337\n",
      "girl brushing - > 0.49047908420610337\n",
      "brushing hair - > 0.49047908420610337\n",
      "teaching - > 0.0\n",
      "nlp - > 0.0\n",
      "teaching nlp - > 0.0\n"
     ]
    }
   ],
   "source": [
    "mapped_features = {}\n",
    "for word, index in tfidf_vectorizer.vocabulary_.items():\n",
    "    mapped_features[word] = feature_vectors.toarray()[1][index]\n",
    "print(f\"{corpus[1]}\\n\")\n",
    "for word,feature_weight in mapped_features.items():\n",
    "    print(f\"{word} - > {feature_weight}\")"
   ]
  },
  {
   "cell_type": "code",
   "execution_count": 207,
   "id": "ac4d0bc2",
   "metadata": {
    "slideshow": {
     "slide_type": "slide"
    }
   },
   "outputs": [
    {
     "name": "stdout",
     "output_type": "stream",
     "text": [
      "teaching nlp\n",
      "\n",
      "girl - > 0.0\n",
      "styling - > 0.0\n",
      "hair - > 0.0\n",
      "girl styling - > 0.0\n",
      "styling hair - > 0.0\n",
      "brushing - > 0.0\n",
      "girl brushing - > 0.0\n",
      "brushing hair - > 0.0\n",
      "teaching - > 0.5773502691896257\n",
      "nlp - > 0.5773502691896257\n",
      "teaching nlp - > 0.5773502691896257\n"
     ]
    }
   ],
   "source": [
    "mapped_features = {}\n",
    "for word, index in tfidf_vectorizer.vocabulary_.items():\n",
    "    mapped_features[word] = feature_vectors.toarray()[2][index]\n",
    "print(f\"{corpus[2]}\\n\")\n",
    "for word,feature_weight in mapped_features.items():\n",
    "    print(f\"{word} - > {feature_weight}\")"
   ]
  },
  {
   "cell_type": "markdown",
   "id": "877fbe18",
   "metadata": {
    "slideshow": {
     "slide_type": "slide"
    }
   },
   "source": [
    "#### Word2vec\n",
    "- CBoW\n",
    "- Skip-gram"
   ]
  },
  {
   "attachments": {
    "image.png": {
     "image/png": "[encoded data removed]"
    }
   },
   "cell_type": "markdown",
   "id": "027c4218",
   "metadata": {
    "slideshow": {
     "slide_type": "slide"
    }
   },
   "source": [
    "![image.png](attachment:image.png)"
   ]
  },
  {
   "cell_type": "markdown",
   "id": "d715f52d",
   "metadata": {
    "slideshow": {
     "slide_type": "subslide"
    }
   },
   "source": [
    "- we are using a pre-trained model trained on Wikipedia dataset\n",
    "- This model has approximately 6 lakhs words in the vocabulary\n",
    "- word is represented with 300 vector length\n",
    "\n",
    "```https://github.com/piskvorky/gensim-data```"
   ]
  },
  {
   "cell_type": "code",
   "execution_count": 48,
   "id": "94034048",
   "metadata": {
    "slideshow": {
     "slide_type": "slide"
    }
   },
   "outputs": [],
   "source": [
    "## Loading the model\n",
    "wv = api.load('word2vec-google-news-300')"
   ]
  },
  {
   "cell_type": "code",
   "execution_count": 49,
   "id": "d8c2153e",
   "metadata": {
    "slideshow": {
     "slide_type": "fragment"
    }
   },
   "outputs": [],
   "source": [
    "vocab = wv.index_to_key"
   ]
  },
  {
   "cell_type": "code",
   "execution_count": 50,
   "id": "3d549ae0",
   "metadata": {
    "slideshow": {
     "slide_type": "fragment"
    }
   },
   "outputs": [],
   "source": [
    "feature_vectors = {}\n",
    "for index,sentence in enumerate(corpus):\n",
    "    words = sentence.split()\n",
    "    ##Fliter out the words not in vocab\n",
    "    words = [word for word in words if word in vocab]\n",
    "    feature_representation = np.mean(wv[words], axis=0)\n",
    "    \n",
    "    feature_vectors[index] = feature_representation"
   ]
  },
  {
   "cell_type": "code",
   "execution_count": 51,
   "id": "d788b3a6",
   "metadata": {
    "slideshow": {
     "slide_type": "subslide"
    }
   },
   "outputs": [
    {
     "data": {
      "text/plain": [
       "{0: array([ 8.65885392e-02,  1.96233109e-01,  1.49088547e-01, -3.67838554e-02,\n",
       "         9.23665334e-03,  5.37923165e-02,  2.03247070e-02, -3.33333343e-01,\n",
       "         6.61214218e-02,  9.99348983e-02, -5.97330742e-02, -2.35677078e-01,\n",
       "         1.22070312e-03,  3.23893242e-02, -3.51562500e-02, -2.36206055e-02,\n",
       "        -2.53906250e-02,  1.78977966e-01,  1.09293617e-01, -2.20865890e-01,\n",
       "        -1.85620621e-01,  1.02864586e-01,  2.54160557e-02, -2.72827148e-02,\n",
       "         7.81250000e-03, -9.53776017e-02, -9.55810547e-02,  2.78320312e-02,\n",
       "         3.97786468e-01, -2.84505218e-01, -9.39331055e-02,  1.52994797e-01,\n",
       "         6.00585938e-02,  5.72916679e-02, -1.24674477e-01, -2.00846359e-01,\n",
       "         2.70996094e-01, -6.74641952e-02, -6.70572892e-02,  7.45442733e-02,\n",
       "         7.10042333e-03, -1.88883469e-01,  6.70572892e-02, -8.13802064e-04,\n",
       "         2.48209629e-02, -1.68294266e-01, -8.13802108e-02,  1.06526695e-01,\n",
       "         2.15169266e-01,  4.47998047e-02,  2.19726562e-02,  6.04248047e-02,\n",
       "        -4.07536834e-04,  3.66210938e-03,  1.26464844e-01,  8.65681935e-03,\n",
       "         6.89665461e-03,  1.78548172e-01, -2.79947910e-02,  9.42993164e-02,\n",
       "        -6.04248047e-03,  9.13899764e-02,  1.24186195e-01, -1.13118492e-01,\n",
       "        -7.36592636e-02,  6.70572892e-02, -8.74837264e-02,  1.62923172e-01,\n",
       "         1.74804688e-01,  1.91731766e-01,  1.52669266e-01,  1.60970047e-01,\n",
       "        -1.85058594e-01,  7.29166642e-02, -1.87327072e-01,  2.50651032e-01,\n",
       "         1.08561195e-01, -5.05778007e-02,  1.43310547e-01,  1.07910156e-01,\n",
       "         1.39322922e-01, -1.24430336e-01, -1.00626625e-01, -8.05664062e-02,\n",
       "        -3.90625000e-01,  3.25520843e-04,  9.89583358e-02,  2.67578125e-01,\n",
       "         4.89095040e-02, -8.21940135e-03, -3.66210938e-02, -1.56575516e-01,\n",
       "        -3.60514335e-02,  1.00341797e-01,  5.22867823e-03, -1.51936844e-01,\n",
       "        -7.87760392e-02, -7.64973983e-02,  7.51953125e-02,  7.97119141e-02,\n",
       "        -4.33756523e-02, -1.22558594e-01,  1.87174473e-02, -1.08398438e-01,\n",
       "         3.88997383e-02, -1.42740890e-01,  1.49902344e-01, -9.82259139e-02,\n",
       "        -5.92041016e-02,  5.37109375e-02, -1.95312500e-01, -2.53906250e-02,\n",
       "         9.01692733e-02,  1.07991539e-01,  8.59375000e-02, -1.43066406e-01,\n",
       "        -4.27042656e-02, -1.94824219e-01,  5.68275452e-02, -5.42195654e-03,\n",
       "         4.63663749e-02,  6.33951798e-02, -1.71793625e-01, -4.15039062e-03,\n",
       "         2.75878906e-01,  1.93684891e-01, -1.19140625e-01,  4.31315089e-03,\n",
       "         3.57157402e-02,  3.88997383e-02, -1.66056320e-01, -1.55354813e-01,\n",
       "        -5.17578125e-02,  3.87369804e-02,  5.72916679e-02,  7.77994767e-02,\n",
       "         9.00675431e-02,  1.45670576e-02,  6.67622909e-02, -6.96309432e-02,\n",
       "         3.04036468e-01, -6.63248673e-02, -1.33789062e-01,  1.70410156e-01,\n",
       "        -9.19596329e-02,  3.16731781e-01,  3.56547050e-02,  2.39908859e-01,\n",
       "        -8.78906250e-03, -4.63053398e-02,  1.74804688e-01, -1.50553390e-01,\n",
       "        -1.89168289e-01,  1.28580732e-02, -1.66605636e-01, -1.11002602e-01,\n",
       "        -2.67333984e-01, -6.49414062e-02, -6.00585938e-02, -4.71903495e-02,\n",
       "         6.58772811e-02,  2.85481781e-01,  1.72526047e-01,  2.95572907e-01,\n",
       "        -9.01692733e-02, -1.66666672e-01,  1.98567715e-02, -4.11783867e-02,\n",
       "         4.55729151e-03,  9.47265625e-02,  1.09764099e-01, -8.90299454e-02,\n",
       "        -7.16145858e-02, -6.44531250e-02, -1.93359375e-01, -1.11816406e-01,\n",
       "         3.03059906e-01, -1.79361984e-01, -3.09244782e-01,  1.71223953e-01,\n",
       "        -4.94791679e-02, -9.93652344e-02,  9.47825089e-02, -6.94580078e-02,\n",
       "        -1.96940098e-02, -1.33138016e-01,  5.77799492e-02, -4.31315089e-03,\n",
       "        -6.40741959e-02, -2.22167969e-02, -3.34269218e-02, -7.07193986e-02,\n",
       "         2.15006515e-01,  4.01611328e-02,  1.23046875e-01, -3.86555977e-02,\n",
       "         5.10253906e-02, -2.05078125e-02, -2.08943691e-02, -1.42496750e-01,\n",
       "        -3.01513672e-02, -6.18489571e-02, -2.20703125e-01, -7.14518204e-02,\n",
       "        -1.84326172e-02, -3.85131836e-02, -5.27343750e-02, -6.42903671e-02,\n",
       "         2.66520176e-02, -1.44856768e-02, -2.97851562e-01,  2.80354824e-02,\n",
       "        -4.18294258e-02, -1.72236443e-01,  1.58528641e-01,  3.80859375e-02,\n",
       "        -2.39827469e-01,  1.68945312e-01, -3.76586914e-02,  4.40266915e-02,\n",
       "        -7.34863281e-02,  2.16796875e-01,  2.62369782e-01,  1.59179688e-01,\n",
       "        -6.44938136e-03,  3.62510681e-02,  1.42415361e-02, -2.48697922e-01,\n",
       "        -5.40568046e-02,  4.88077812e-02,  3.71093750e-02, -2.92968750e-03,\n",
       "        -1.97591141e-01,  1.73990890e-01, -1.34684248e-02,  1.75089523e-01,\n",
       "        -1.76684058e-03, -9.71679688e-02,  1.44775391e-01, -8.00781250e-02,\n",
       "         3.65234375e-01,  8.01595077e-02, -1.61987305e-01, -6.85323104e-02,\n",
       "         6.55517578e-02,  6.86035156e-02, -1.13952637e-01,  6.31815568e-02,\n",
       "         9.32617188e-02,  9.52148438e-03,  7.89388046e-02,  2.22005203e-01,\n",
       "         3.74348951e-03,  1.68334961e-01,  1.21337891e-01, -6.37410507e-02,\n",
       "        -3.96321602e-02,  1.48681641e-01,  1.12792969e-01,  2.67740879e-02,\n",
       "         2.11263016e-01, -2.84016933e-02, -2.14192703e-01, -1.14501953e-01,\n",
       "         1.49739578e-01,  1.99462891e-01, -1.99381515e-01, -7.24283829e-02,\n",
       "        -7.64160156e-02, -9.26106796e-02,  0.00000000e+00,  1.49251297e-01,\n",
       "        -7.14518204e-02,  1.00748695e-01,  1.67846680e-01, -1.26627609e-01,\n",
       "         1.75455734e-01, -3.49731445e-02, -1.19222008e-01,  2.88085938e-02,\n",
       "         1.36393234e-01, -1.02945961e-01,  2.69571934e-02,  1.14257812e-01,\n",
       "        -2.27213547e-01, -3.66210938e-03, -8.51236954e-02, -7.82063827e-02,\n",
       "        -4.39453125e-02,  2.40559891e-01, -3.99576835e-02,  1.72159836e-01,\n",
       "        -1.23753868e-01,  8.13802052e-03,  6.08723946e-02, -4.48811837e-02,\n",
       "         1.89941406e-01,  9.21223983e-02, -3.50545235e-02,  8.50423202e-02],\n",
       "       dtype=float32),\n",
       " 1: array([-5.37109375e-03,  1.23316444e-01,  1.26302078e-01, -1.51204422e-01,\n",
       "        -9.31803416e-03,  5.13509102e-02,  6.02213526e-03, -1.94417313e-01,\n",
       "         9.14713517e-02,  1.01888023e-01,  1.46484375e-03, -1.91080734e-01,\n",
       "        -7.34863281e-02,  5.72916679e-02, -1.20279945e-01,  2.03247070e-02,\n",
       "         3.17382812e-02,  2.05996200e-01,  7.12076798e-02, -1.85058594e-01,\n",
       "        -7.13628158e-02,  4.56542969e-02, -2.09706631e-02,  9.72493459e-03,\n",
       "        -2.83203125e-02, -1.52832031e-01, -8.76057968e-02,  3.32031250e-02,\n",
       "         2.36979172e-01, -1.10351562e-01, -6.02416992e-02,  6.96614608e-02,\n",
       "         1.18001299e-02, -1.01969399e-01, -1.92057297e-01, -2.04752609e-01,\n",
       "         2.66113281e-01, -5.77799492e-02,  7.64973974e-03,  2.25585938e-01,\n",
       "         2.73437500e-02, -2.15250656e-01,  2.45117188e-01, -1.25203446e-01,\n",
       "         1.02294922e-01, -7.73111954e-02, -1.38020828e-01,  6.75455714e-03,\n",
       "         7.84505233e-02,  1.44449873e-02,  5.92854805e-02,  1.05224609e-01,\n",
       "         2.30299626e-02, -5.82275391e-02,  1.19628906e-01,  1.29750565e-01,\n",
       "        -1.64826715e-03, -1.22070312e-02, -1.11979164e-01,  3.65924835e-02,\n",
       "        -3.37117501e-02,  1.76839188e-01,  2.45605469e-01, -7.99153671e-02,\n",
       "         7.94982910e-02,  2.28434250e-01, -1.48356125e-01, -1.31835938e-02,\n",
       "         1.53483078e-01, -3.58072924e-03,  6.63248673e-02,  9.87955704e-02,\n",
       "        -1.96614578e-01,  4.50846367e-02, -2.07183838e-01,  9.11458358e-02,\n",
       "         1.57552078e-01,  1.28580732e-02,  2.13541672e-01,  6.74889907e-02,\n",
       "         7.81250000e-03, -4.21549492e-02, -5.41178370e-03, -6.46158829e-02,\n",
       "        -1.29557297e-01,  4.93164062e-02,  1.03027344e-01,  2.21028641e-01,\n",
       "         1.37939453e-01,  1.21744789e-01, -4.50032540e-02, -3.25520843e-04,\n",
       "         2.14436855e-02,  5.80240898e-02, -5.89599609e-02, -1.12548828e-01,\n",
       "         1.04166664e-01, -4.10156250e-02,  8.13802052e-03,  1.21053062e-01,\n",
       "        -1.68945312e-01, -2.04345703e-01,  3.64583321e-02, -1.09578453e-01,\n",
       "         2.99479160e-02, -1.48925781e-01,  1.59993485e-01, -2.09635422e-01,\n",
       "         1.00952148e-01, -1.25325516e-01, -1.66178390e-01, -9.83072892e-02,\n",
       "         1.07421875e-01, -2.31119785e-02, -2.84627285e-02, -1.10351562e-01,\n",
       "        -5.45857735e-02, -1.53808594e-01, -1.05061851e-01,  1.98364258e-03,\n",
       "         4.58170585e-02,  4.76074219e-02, -8.68326798e-02, -5.75358085e-02,\n",
       "         1.17268883e-01,  1.84570312e-01, -5.27343750e-02,  1.79850254e-02,\n",
       "         1.06363930e-01,  2.70182285e-02, -2.08984375e-01, -2.27213547e-01,\n",
       "        -1.21012367e-01, -5.64778633e-02, -9.72493459e-03,  9.83072892e-02,\n",
       "         1.09700523e-01, -2.24812818e-03,  8.93147811e-02, -1.21765137e-02,\n",
       "         2.62044281e-01, -1.39729813e-01, -1.48925781e-02,  7.22656250e-02,\n",
       "        -3.16569023e-02,  3.36588532e-01, -7.53173828e-02,  9.71272811e-02,\n",
       "         8.36588517e-02, -6.59179688e-02,  1.72444656e-01, -1.85872391e-01,\n",
       "        -1.17228188e-01,  4.76888008e-02, -9.61303711e-02, -6.67317733e-02,\n",
       "        -2.70589203e-01, -2.77181000e-01, -4.20328788e-02,  9.75545272e-02,\n",
       "         4.96419258e-02,  2.93294281e-01,  2.11588547e-01,  1.75048828e-01,\n",
       "        -7.38932267e-02, -9.54589844e-02,  4.68750000e-02, -4.76888008e-02,\n",
       "         1.49414062e-01,  1.23453774e-01,  1.82942703e-01,  4.18294258e-02,\n",
       "        -5.40364571e-02,  7.42187500e-02, -1.24064125e-01, -1.03271484e-01,\n",
       "         2.01009110e-01, -4.83398438e-02, -2.13867188e-01,  1.60481766e-01,\n",
       "         6.42903671e-02, -9.64457169e-02,  3.45611572e-02, -3.91845703e-02,\n",
       "        -7.16145849e-03,  2.19726562e-03,  1.83105469e-03, -3.32845040e-02,\n",
       "         8.72929916e-02,  8.11360702e-02, -5.81665039e-02, -7.07193986e-02,\n",
       "         2.55696625e-01,  1.38997391e-01,  1.52730301e-01,  5.54199219e-02,\n",
       "        -4.27246094e-02, -1.03352867e-01, -3.97135429e-02, -1.64388016e-01,\n",
       "        -5.90006495e-03, -8.69954452e-02, -1.32486984e-01, -1.18937172e-01,\n",
       "         3.75162773e-02,  2.70182285e-02, -3.37727852e-02,  3.14229317e-02,\n",
       "         3.49528007e-02, -1.09375000e-01, -2.48372391e-01, -6.51041651e-03,\n",
       "        -1.28092453e-01, -2.14843750e-01,  1.81315109e-01,  2.17285156e-02,\n",
       "        -1.55273438e-01,  1.18652344e-01, -8.76871776e-03,  8.36079940e-02,\n",
       "         6.75455714e-03,  3.08919281e-01,  1.51367188e-01, -1.46484375e-02,\n",
       "         3.19010429e-02, -2.62082424e-02, -1.60319004e-02, -2.47395828e-01,\n",
       "         1.67643223e-02, -6.69148788e-02,  6.06282540e-02, -8.47981796e-02,\n",
       "        -1.87825516e-01,  1.62272140e-01, -6.42496720e-02,  7.70263672e-02,\n",
       "        -5.45825958e-02, -3.82486992e-02, -2.67740879e-02, -2.91341152e-02,\n",
       "         2.58138031e-01,  6.03027344e-02, -7.02718124e-02, -1.12558998e-01,\n",
       "         1.95760086e-01,  9.63541642e-02, -1.24532066e-01, -7.97220841e-02,\n",
       "        -6.29882812e-02, -8.83789062e-02, -2.65299473e-02,  3.98763008e-02,\n",
       "         1.69270840e-02,  1.70654297e-01,  6.33951798e-02, -6.44734725e-02,\n",
       "        -4.68750000e-02,  1.40869141e-01, -2.68554688e-02,  7.49511719e-02,\n",
       "         4.83398438e-02,  6.65690079e-02, -1.47796631e-01, -5.46875000e-02,\n",
       "         1.15804039e-01,  2.68880218e-01, -1.43717453e-01,  5.06388359e-02,\n",
       "        -4.54101562e-02, -4.05273438e-02, -7.06380233e-02,  1.74641922e-01,\n",
       "        -4.39453125e-03,  1.20442711e-01,  1.82454422e-01, -2.36002609e-01,\n",
       "         1.46484375e-02,  5.73933907e-02, -4.04459648e-02, -6.67317724e-03,\n",
       "         1.41927078e-01, -4.68750000e-02,  8.14005509e-02,  2.80598968e-01,\n",
       "        -1.23697914e-01, -3.40169258e-02, -5.39550781e-02,  1.20035805e-01,\n",
       "        -4.06901054e-02,  3.00130218e-01,  3.94694023e-02,  1.34073898e-01,\n",
       "        -8.88671875e-02, -5.39271049e-02,  3.15755196e-02, -1.91650391e-02,\n",
       "         1.25651047e-01,  7.26725236e-02, -2.15454102e-02,  1.32324219e-01],\n",
       "       dtype=float32),\n",
       " 2: array([ 0.10742188,  0.01184082,  0.18359375,  0.16503906,  0.11230469,\n",
       "         0.08203125,  0.04174805, -0.3203125 , -0.15625   , -0.06884766,\n",
       "         0.29882812,  0.0703125 , -0.15234375,  0.09472656, -0.19042969,\n",
       "         0.06103516, -0.07714844,  0.15527344, -0.0378418 , -0.25195312,\n",
       "         0.21191406,  0.06738281,  0.06591797,  0.20117188, -0.12255859,\n",
       "        -0.328125  , -0.08837891, -0.10595703, -0.12060547, -0.00402832,\n",
       "         0.14355469, -0.1484375 , -0.02734375,  0.12792969,  0.08300781,\n",
       "        -0.0859375 ,  0.05322266,  0.18945312,  0.16015625, -0.18554688,\n",
       "         0.05395508, -0.02905273, -0.02478027, -0.17382812, -0.11425781,\n",
       "        -0.07128906,  0.14648438,  0.1875    , -0.11035156,  0.12890625,\n",
       "        -0.13671875, -0.12695312, -0.06201172,  0.03149414,  0.234375  ,\n",
       "         0.08935547, -0.00897217, -0.09960938, -0.04394531, -0.22070312,\n",
       "         0.13476562,  0.08105469,  0.17675781, -0.30664062,  0.17089844,\n",
       "         0.10498047, -0.11230469, -0.00424194,  0.13183594, -0.0456543 ,\n",
       "        -0.11132812,  0.09228516,  0.03857422,  0.25585938, -0.012146  ,\n",
       "         0.0456543 ,  0.0546875 , -0.11035156,  0.12792969,  0.08105469,\n",
       "         0.03637695,  0.04492188,  0.08398438,  0.20800781, -0.11035156,\n",
       "         0.00367737, -0.05615234,  0.12792969,  0.11132812, -0.01611328,\n",
       "        -0.02416992, -0.03662109, -0.18066406, -0.10546875,  0.09423828,\n",
       "         0.13867188,  0.24511719, -0.1328125 ,  0.12597656, -0.12402344,\n",
       "        -0.16015625, -0.03540039, -0.00219727, -0.04418945,  0.01965332,\n",
       "        -0.06176758, -0.0177002 ,  0.02856445,  0.11230469, -0.39648438,\n",
       "        -0.35742188,  0.22753906, -0.09863281,  0.06347656,  0.08544922,\n",
       "        -0.02062988,  0.16796875, -0.09326172,  0.12695312, -0.05029297,\n",
       "        -0.03710938, -0.02148438,  0.05981445,  0.07275391, -0.30859375,\n",
       "        -0.26757812, -0.23339844, -0.08837891, -0.32421875,  0.32226562,\n",
       "         0.06835938, -0.4453125 , -0.27539062, -0.265625  ,  0.20605469,\n",
       "         0.02697754,  0.01312256, -0.05859375, -0.03112793,  0.19628906,\n",
       "        -0.20605469, -0.16894531, -0.04296875, -0.3359375 , -0.20703125,\n",
       "         0.23828125,  0.08789062,  0.08203125, -0.05639648, -0.10644531,\n",
       "         0.24316406, -0.01171875, -0.16210938,  0.10351562, -0.07714844,\n",
       "        -0.05883789, -0.15136719, -0.17578125, -0.08007812, -0.12988281,\n",
       "        -0.07714844,  0.34179688, -0.11181641,  0.09863281, -0.04516602,\n",
       "         0.09423828,  0.20019531, -0.1875    ,  0.0559082 , -0.22363281,\n",
       "        -0.06982422,  0.12402344, -0.01953125,  0.05273438,  0.28710938,\n",
       "         0.20214844, -0.00250244,  0.0324707 , -0.01977539,  0.08789062,\n",
       "        -0.21289062, -0.08007812,  0.10205078, -0.09130859,  0.02758789,\n",
       "         0.13085938, -0.19726562, -0.1484375 ,  0.24902344, -0.08837891,\n",
       "        -0.10351562, -0.09716797,  0.05834961,  0.21386719, -0.24707031,\n",
       "        -0.06445312,  0.17089844, -0.25      ,  0.1640625 , -0.00175476,\n",
       "        -0.35742188,  0.01379395,  0.28320312, -0.21484375, -0.4453125 ,\n",
       "        -0.20996094, -0.19238281, -0.08789062, -0.17480469, -0.11767578,\n",
       "        -0.04174805,  0.05249023, -0.03295898, -0.17285156,  0.12402344,\n",
       "         0.03564453, -0.03100586,  0.09814453, -0.03515625, -0.20214844,\n",
       "         0.14160156, -0.00469971,  0.22167969,  0.08251953,  0.18261719,\n",
       "        -0.12402344, -0.06494141, -0.15234375, -0.06103516, -0.13183594,\n",
       "         0.12304688, -0.10546875, -0.04833984, -0.04370117,  0.31445312,\n",
       "        -0.16699219,  0.17480469, -0.12988281, -0.12109375, -0.046875  ,\n",
       "         0.03564453,  0.02209473,  0.09326172, -0.2421875 , -0.28710938,\n",
       "        -0.30273438, -0.2109375 , -0.06030273, -0.08056641, -0.21777344,\n",
       "         0.03564453,  0.07714844, -0.09765625,  0.25      , -0.0390625 ,\n",
       "        -0.16796875, -0.23046875,  0.09912109, -0.04931641,  0.22558594,\n",
       "         0.11230469,  0.12695312, -0.01757812, -0.04760742, -0.10400391,\n",
       "        -0.05419922,  0.23144531, -0.16015625, -0.09326172,  0.06835938,\n",
       "         0.11328125, -0.02124023, -0.09179688,  0.10107422,  0.10693359,\n",
       "        -0.07666016,  0.01330566, -0.09277344, -0.25976562, -0.21582031,\n",
       "         0.06176758, -0.0267334 ,  0.1796875 ,  0.1953125 ,  0.08300781,\n",
       "         0.03015137,  0.09375   , -0.03588867,  0.12890625,  0.33007812,\n",
       "        -0.30078125, -0.00604248, -0.23632812,  0.00343323, -0.06738281,\n",
       "         0.04272461,  0.16699219, -0.03442383,  0.171875  ,  0.21191406],\n",
       "       dtype=float32)}"
      ]
     },
     "execution_count": 51,
     "metadata": {},
     "output_type": "execute_result"
    }
   ],
   "source": [
    "feature_vectors"
   ]
  },
  {
   "cell_type": "code",
   "execution_count": 52,
   "id": "c34ab0e7",
   "metadata": {
    "slideshow": {
     "slide_type": "subslide"
    }
   },
   "outputs": [
    {
     "name": "stdout",
     "output_type": "stream",
     "text": [
      "Sentence: girl styling hair -> Representation: [ 8.65885392e-02  1.96233109e-01  1.49088547e-01 -3.67838554e-02\n",
      "  9.23665334e-03  5.37923165e-02  2.03247070e-02 -3.33333343e-01\n",
      "  6.61214218e-02  9.99348983e-02 -5.97330742e-02 -2.35677078e-01\n",
      "  1.22070312e-03  3.23893242e-02 -3.51562500e-02 -2.36206055e-02\n",
      " -2.53906250e-02  1.78977966e-01  1.09293617e-01 -2.20865890e-01\n",
      " -1.85620621e-01  1.02864586e-01  2.54160557e-02 -2.72827148e-02\n",
      "  7.81250000e-03 -9.53776017e-02 -9.55810547e-02  2.78320312e-02\n",
      "  3.97786468e-01 -2.84505218e-01 -9.39331055e-02  1.52994797e-01\n",
      "  6.00585938e-02  5.72916679e-02 -1.24674477e-01 -2.00846359e-01\n",
      "  2.70996094e-01 -6.74641952e-02 -6.70572892e-02  7.45442733e-02\n",
      "  7.10042333e-03 -1.88883469e-01  6.70572892e-02 -8.13802064e-04\n",
      "  2.48209629e-02 -1.68294266e-01 -8.13802108e-02  1.06526695e-01\n",
      "  2.15169266e-01  4.47998047e-02  2.19726562e-02  6.04248047e-02\n",
      " -4.07536834e-04  3.66210938e-03  1.26464844e-01  8.65681935e-03\n",
      "  6.89665461e-03  1.78548172e-01 -2.79947910e-02  9.42993164e-02\n",
      " -6.04248047e-03  9.13899764e-02  1.24186195e-01 -1.13118492e-01\n",
      " -7.36592636e-02  6.70572892e-02 -8.74837264e-02  1.62923172e-01\n",
      "  1.74804688e-01  1.91731766e-01  1.52669266e-01  1.60970047e-01\n",
      " -1.85058594e-01  7.29166642e-02 -1.87327072e-01  2.50651032e-01\n",
      "  1.08561195e-01 -5.05778007e-02  1.43310547e-01  1.07910156e-01\n",
      "  1.39322922e-01 -1.24430336e-01 -1.00626625e-01 -8.05664062e-02\n",
      " -3.90625000e-01  3.25520843e-04  9.89583358e-02  2.67578125e-01\n",
      "  4.89095040e-02 -8.21940135e-03 -3.66210938e-02 -1.56575516e-01\n",
      " -3.60514335e-02  1.00341797e-01  5.22867823e-03 -1.51936844e-01\n",
      " -7.87760392e-02 -7.64973983e-02  7.51953125e-02  7.97119141e-02\n",
      " -4.33756523e-02 -1.22558594e-01  1.87174473e-02 -1.08398438e-01\n",
      "  3.88997383e-02 -1.42740890e-01  1.49902344e-01 -9.82259139e-02\n",
      " -5.92041016e-02  5.37109375e-02 -1.95312500e-01 -2.53906250e-02\n",
      "  9.01692733e-02  1.07991539e-01  8.59375000e-02 -1.43066406e-01\n",
      " -4.27042656e-02 -1.94824219e-01  5.68275452e-02 -5.42195654e-03\n",
      "  4.63663749e-02  6.33951798e-02 -1.71793625e-01 -4.15039062e-03\n",
      "  2.75878906e-01  1.93684891e-01 -1.19140625e-01  4.31315089e-03\n",
      "  3.57157402e-02  3.88997383e-02 -1.66056320e-01 -1.55354813e-01\n",
      " -5.17578125e-02  3.87369804e-02  5.72916679e-02  7.77994767e-02\n",
      "  9.00675431e-02  1.45670576e-02  6.67622909e-02 -6.96309432e-02\n",
      "  3.04036468e-01 -6.63248673e-02 -1.33789062e-01  1.70410156e-01\n",
      " -9.19596329e-02  3.16731781e-01  3.56547050e-02  2.39908859e-01\n",
      " -8.78906250e-03 -4.63053398e-02  1.74804688e-01 -1.50553390e-01\n",
      " -1.89168289e-01  1.28580732e-02 -1.66605636e-01 -1.11002602e-01\n",
      " -2.67333984e-01 -6.49414062e-02 -6.00585938e-02 -4.71903495e-02\n",
      "  6.58772811e-02  2.85481781e-01  1.72526047e-01  2.95572907e-01\n",
      " -9.01692733e-02 -1.66666672e-01  1.98567715e-02 -4.11783867e-02\n",
      "  4.55729151e-03  9.47265625e-02  1.09764099e-01 -8.90299454e-02\n",
      " -7.16145858e-02 -6.44531250e-02 -1.93359375e-01 -1.11816406e-01\n",
      "  3.03059906e-01 -1.79361984e-01 -3.09244782e-01  1.71223953e-01\n",
      " -4.94791679e-02 -9.93652344e-02  9.47825089e-02 -6.94580078e-02\n",
      " -1.96940098e-02 -1.33138016e-01  5.77799492e-02 -4.31315089e-03\n",
      " -6.40741959e-02 -2.22167969e-02 -3.34269218e-02 -7.07193986e-02\n",
      "  2.15006515e-01  4.01611328e-02  1.23046875e-01 -3.86555977e-02\n",
      "  5.10253906e-02 -2.05078125e-02 -2.08943691e-02 -1.42496750e-01\n",
      " -3.01513672e-02 -6.18489571e-02 -2.20703125e-01 -7.14518204e-02\n",
      " -1.84326172e-02 -3.85131836e-02 -5.27343750e-02 -6.42903671e-02\n",
      "  2.66520176e-02 -1.44856768e-02 -2.97851562e-01  2.80354824e-02\n",
      " -4.18294258e-02 -1.72236443e-01  1.58528641e-01  3.80859375e-02\n",
      " -2.39827469e-01  1.68945312e-01 -3.76586914e-02  4.40266915e-02\n",
      " -7.34863281e-02  2.16796875e-01  2.62369782e-01  1.59179688e-01\n",
      " -6.44938136e-03  3.62510681e-02  1.42415361e-02 -2.48697922e-01\n",
      " -5.40568046e-02  4.88077812e-02  3.71093750e-02 -2.92968750e-03\n",
      " -1.97591141e-01  1.73990890e-01 -1.34684248e-02  1.75089523e-01\n",
      " -1.76684058e-03 -9.71679688e-02  1.44775391e-01 -8.00781250e-02\n",
      "  3.65234375e-01  8.01595077e-02 -1.61987305e-01 -6.85323104e-02\n",
      "  6.55517578e-02  6.86035156e-02 -1.13952637e-01  6.31815568e-02\n",
      "  9.32617188e-02  9.52148438e-03  7.89388046e-02  2.22005203e-01\n",
      "  3.74348951e-03  1.68334961e-01  1.21337891e-01 -6.37410507e-02\n",
      " -3.96321602e-02  1.48681641e-01  1.12792969e-01  2.67740879e-02\n",
      "  2.11263016e-01 -2.84016933e-02 -2.14192703e-01 -1.14501953e-01\n",
      "  1.49739578e-01  1.99462891e-01 -1.99381515e-01 -7.24283829e-02\n",
      " -7.64160156e-02 -9.26106796e-02  0.00000000e+00  1.49251297e-01\n",
      " -7.14518204e-02  1.00748695e-01  1.67846680e-01 -1.26627609e-01\n",
      "  1.75455734e-01 -3.49731445e-02 -1.19222008e-01  2.88085938e-02\n",
      "  1.36393234e-01 -1.02945961e-01  2.69571934e-02  1.14257812e-01\n",
      " -2.27213547e-01 -3.66210938e-03 -8.51236954e-02 -7.82063827e-02\n",
      " -4.39453125e-02  2.40559891e-01 -3.99576835e-02  1.72159836e-01\n",
      " -1.23753868e-01  8.13802052e-03  6.08723946e-02 -4.48811837e-02\n",
      "  1.89941406e-01  9.21223983e-02 -3.50545235e-02  8.50423202e-02]\n",
      "\n",
      "Sentence: girl brushing hair -> Representation: [-5.37109375e-03  1.23316444e-01  1.26302078e-01 -1.51204422e-01\n",
      " -9.31803416e-03  5.13509102e-02  6.02213526e-03 -1.94417313e-01\n",
      "  9.14713517e-02  1.01888023e-01  1.46484375e-03 -1.91080734e-01\n",
      " -7.34863281e-02  5.72916679e-02 -1.20279945e-01  2.03247070e-02\n",
      "  3.17382812e-02  2.05996200e-01  7.12076798e-02 -1.85058594e-01\n",
      " -7.13628158e-02  4.56542969e-02 -2.09706631e-02  9.72493459e-03\n",
      " -2.83203125e-02 -1.52832031e-01 -8.76057968e-02  3.32031250e-02\n",
      "  2.36979172e-01 -1.10351562e-01 -6.02416992e-02  6.96614608e-02\n",
      "  1.18001299e-02 -1.01969399e-01 -1.92057297e-01 -2.04752609e-01\n",
      "  2.66113281e-01 -5.77799492e-02  7.64973974e-03  2.25585938e-01\n",
      "  2.73437500e-02 -2.15250656e-01  2.45117188e-01 -1.25203446e-01\n",
      "  1.02294922e-01 -7.73111954e-02 -1.38020828e-01  6.75455714e-03\n",
      "  7.84505233e-02  1.44449873e-02  5.92854805e-02  1.05224609e-01\n",
      "  2.30299626e-02 -5.82275391e-02  1.19628906e-01  1.29750565e-01\n",
      " -1.64826715e-03 -1.22070312e-02 -1.11979164e-01  3.65924835e-02\n",
      " -3.37117501e-02  1.76839188e-01  2.45605469e-01 -7.99153671e-02\n",
      "  7.94982910e-02  2.28434250e-01 -1.48356125e-01 -1.31835938e-02\n",
      "  1.53483078e-01 -3.58072924e-03  6.63248673e-02  9.87955704e-02\n",
      " -1.96614578e-01  4.50846367e-02 -2.07183838e-01  9.11458358e-02\n",
      "  1.57552078e-01  1.28580732e-02  2.13541672e-01  6.74889907e-02\n",
      "  7.81250000e-03 -4.21549492e-02 -5.41178370e-03 -6.46158829e-02\n",
      " -1.29557297e-01  4.93164062e-02  1.03027344e-01  2.21028641e-01\n",
      "  1.37939453e-01  1.21744789e-01 -4.50032540e-02 -3.25520843e-04\n",
      "  2.14436855e-02  5.80240898e-02 -5.89599609e-02 -1.12548828e-01\n",
      "  1.04166664e-01 -4.10156250e-02  8.13802052e-03  1.21053062e-01\n",
      " -1.68945312e-01 -2.04345703e-01  3.64583321e-02 -1.09578453e-01\n",
      "  2.99479160e-02 -1.48925781e-01  1.59993485e-01 -2.09635422e-01\n",
      "  1.00952148e-01 -1.25325516e-01 -1.66178390e-01 -9.83072892e-02\n",
      "  1.07421875e-01 -2.31119785e-02 -2.84627285e-02 -1.10351562e-01\n",
      " -5.45857735e-02 -1.53808594e-01 -1.05061851e-01  1.98364258e-03\n",
      "  4.58170585e-02  4.76074219e-02 -8.68326798e-02 -5.75358085e-02\n",
      "  1.17268883e-01  1.84570312e-01 -5.27343750e-02  1.79850254e-02\n",
      "  1.06363930e-01  2.70182285e-02 -2.08984375e-01 -2.27213547e-01\n",
      " -1.21012367e-01 -5.64778633e-02 -9.72493459e-03  9.83072892e-02\n",
      "  1.09700523e-01 -2.24812818e-03  8.93147811e-02 -1.21765137e-02\n",
      "  2.62044281e-01 -1.39729813e-01 -1.48925781e-02  7.22656250e-02\n",
      " -3.16569023e-02  3.36588532e-01 -7.53173828e-02  9.71272811e-02\n",
      "  8.36588517e-02 -6.59179688e-02  1.72444656e-01 -1.85872391e-01\n",
      " -1.17228188e-01  4.76888008e-02 -9.61303711e-02 -6.67317733e-02\n",
      " -2.70589203e-01 -2.77181000e-01 -4.20328788e-02  9.75545272e-02\n",
      "  4.96419258e-02  2.93294281e-01  2.11588547e-01  1.75048828e-01\n",
      " -7.38932267e-02 -9.54589844e-02  4.68750000e-02 -4.76888008e-02\n",
      "  1.49414062e-01  1.23453774e-01  1.82942703e-01  4.18294258e-02\n",
      " -5.40364571e-02  7.42187500e-02 -1.24064125e-01 -1.03271484e-01\n",
      "  2.01009110e-01 -4.83398438e-02 -2.13867188e-01  1.60481766e-01\n",
      "  6.42903671e-02 -9.64457169e-02  3.45611572e-02 -3.91845703e-02\n",
      " -7.16145849e-03  2.19726562e-03  1.83105469e-03 -3.32845040e-02\n",
      "  8.72929916e-02  8.11360702e-02 -5.81665039e-02 -7.07193986e-02\n",
      "  2.55696625e-01  1.38997391e-01  1.52730301e-01  5.54199219e-02\n",
      " -4.27246094e-02 -1.03352867e-01 -3.97135429e-02 -1.64388016e-01\n",
      " -5.90006495e-03 -8.69954452e-02 -1.32486984e-01 -1.18937172e-01\n",
      "  3.75162773e-02  2.70182285e-02 -3.37727852e-02  3.14229317e-02\n",
      "  3.49528007e-02 -1.09375000e-01 -2.48372391e-01 -6.51041651e-03\n",
      " -1.28092453e-01 -2.14843750e-01  1.81315109e-01  2.17285156e-02\n",
      " -1.55273438e-01  1.18652344e-01 -8.76871776e-03  8.36079940e-02\n",
      "  6.75455714e-03  3.08919281e-01  1.51367188e-01 -1.46484375e-02\n",
      "  3.19010429e-02 -2.62082424e-02 -1.60319004e-02 -2.47395828e-01\n",
      "  1.67643223e-02 -6.69148788e-02  6.06282540e-02 -8.47981796e-02\n",
      " -1.87825516e-01  1.62272140e-01 -6.42496720e-02  7.70263672e-02\n",
      " -5.45825958e-02 -3.82486992e-02 -2.67740879e-02 -2.91341152e-02\n",
      "  2.58138031e-01  6.03027344e-02 -7.02718124e-02 -1.12558998e-01\n",
      "  1.95760086e-01  9.63541642e-02 -1.24532066e-01 -7.97220841e-02\n",
      " -6.29882812e-02 -8.83789062e-02 -2.65299473e-02  3.98763008e-02\n",
      "  1.69270840e-02  1.70654297e-01  6.33951798e-02 -6.44734725e-02\n",
      " -4.68750000e-02  1.40869141e-01 -2.68554688e-02  7.49511719e-02\n",
      "  4.83398438e-02  6.65690079e-02 -1.47796631e-01 -5.46875000e-02\n",
      "  1.15804039e-01  2.68880218e-01 -1.43717453e-01  5.06388359e-02\n",
      " -4.54101562e-02 -4.05273438e-02 -7.06380233e-02  1.74641922e-01\n",
      " -4.39453125e-03  1.20442711e-01  1.82454422e-01 -2.36002609e-01\n",
      "  1.46484375e-02  5.73933907e-02 -4.04459648e-02 -6.67317724e-03\n",
      "  1.41927078e-01 -4.68750000e-02  8.14005509e-02  2.80598968e-01\n",
      " -1.23697914e-01 -3.40169258e-02 -5.39550781e-02  1.20035805e-01\n",
      " -4.06901054e-02  3.00130218e-01  3.94694023e-02  1.34073898e-01\n",
      " -8.88671875e-02 -5.39271049e-02  3.15755196e-02 -1.91650391e-02\n",
      "  1.25651047e-01  7.26725236e-02 -2.15454102e-02  1.32324219e-01]\n",
      "\n",
      "Sentence: teaching nlp -> Representation: [ 0.10742188  0.01184082  0.18359375  0.16503906  0.11230469  0.08203125\n",
      "  0.04174805 -0.3203125  -0.15625    -0.06884766  0.29882812  0.0703125\n",
      " -0.15234375  0.09472656 -0.19042969  0.06103516 -0.07714844  0.15527344\n",
      " -0.0378418  -0.25195312  0.21191406  0.06738281  0.06591797  0.20117188\n",
      " -0.12255859 -0.328125   -0.08837891 -0.10595703 -0.12060547 -0.00402832\n",
      "  0.14355469 -0.1484375  -0.02734375  0.12792969  0.08300781 -0.0859375\n",
      "  0.05322266  0.18945312  0.16015625 -0.18554688  0.05395508 -0.02905273\n",
      " -0.02478027 -0.17382812 -0.11425781 -0.07128906  0.14648438  0.1875\n",
      " -0.11035156  0.12890625 -0.13671875 -0.12695312 -0.06201172  0.03149414\n",
      "  0.234375    0.08935547 -0.00897217 -0.09960938 -0.04394531 -0.22070312\n",
      "  0.13476562  0.08105469  0.17675781 -0.30664062  0.17089844  0.10498047\n",
      " -0.11230469 -0.00424194  0.13183594 -0.0456543  -0.11132812  0.09228516\n",
      "  0.03857422  0.25585938 -0.012146    0.0456543   0.0546875  -0.11035156\n",
      "  0.12792969  0.08105469  0.03637695  0.04492188  0.08398438  0.20800781\n",
      " -0.11035156  0.00367737 -0.05615234  0.12792969  0.11132812 -0.01611328\n",
      " -0.02416992 -0.03662109 -0.18066406 -0.10546875  0.09423828  0.13867188\n",
      "  0.24511719 -0.1328125   0.12597656 -0.12402344 -0.16015625 -0.03540039\n",
      " -0.00219727 -0.04418945  0.01965332 -0.06176758 -0.0177002   0.02856445\n",
      "  0.11230469 -0.39648438 -0.35742188  0.22753906 -0.09863281  0.06347656\n",
      "  0.08544922 -0.02062988  0.16796875 -0.09326172  0.12695312 -0.05029297\n",
      " -0.03710938 -0.02148438  0.05981445  0.07275391 -0.30859375 -0.26757812\n",
      " -0.23339844 -0.08837891 -0.32421875  0.32226562  0.06835938 -0.4453125\n",
      " -0.27539062 -0.265625    0.20605469  0.02697754  0.01312256 -0.05859375\n",
      " -0.03112793  0.19628906 -0.20605469 -0.16894531 -0.04296875 -0.3359375\n",
      " -0.20703125  0.23828125  0.08789062  0.08203125 -0.05639648 -0.10644531\n",
      "  0.24316406 -0.01171875 -0.16210938  0.10351562 -0.07714844 -0.05883789\n",
      " -0.15136719 -0.17578125 -0.08007812 -0.12988281 -0.07714844  0.34179688\n",
      " -0.11181641  0.09863281 -0.04516602  0.09423828  0.20019531 -0.1875\n",
      "  0.0559082  -0.22363281 -0.06982422  0.12402344 -0.01953125  0.05273438\n",
      "  0.28710938  0.20214844 -0.00250244  0.0324707  -0.01977539  0.08789062\n",
      " -0.21289062 -0.08007812  0.10205078 -0.09130859  0.02758789  0.13085938\n",
      " -0.19726562 -0.1484375   0.24902344 -0.08837891 -0.10351562 -0.09716797\n",
      "  0.05834961  0.21386719 -0.24707031 -0.06445312  0.17089844 -0.25\n",
      "  0.1640625  -0.00175476 -0.35742188  0.01379395  0.28320312 -0.21484375\n",
      " -0.4453125  -0.20996094 -0.19238281 -0.08789062 -0.17480469 -0.11767578\n",
      " -0.04174805  0.05249023 -0.03295898 -0.17285156  0.12402344  0.03564453\n",
      " -0.03100586  0.09814453 -0.03515625 -0.20214844  0.14160156 -0.00469971\n",
      "  0.22167969  0.08251953  0.18261719 -0.12402344 -0.06494141 -0.15234375\n",
      " -0.06103516 -0.13183594  0.12304688 -0.10546875 -0.04833984 -0.04370117\n",
      "  0.31445312 -0.16699219  0.17480469 -0.12988281 -0.12109375 -0.046875\n",
      "  0.03564453  0.02209473  0.09326172 -0.2421875  -0.28710938 -0.30273438\n",
      " -0.2109375  -0.06030273 -0.08056641 -0.21777344  0.03564453  0.07714844\n",
      " -0.09765625  0.25       -0.0390625  -0.16796875 -0.23046875  0.09912109\n",
      " -0.04931641  0.22558594  0.11230469  0.12695312 -0.01757812 -0.04760742\n",
      " -0.10400391 -0.05419922  0.23144531 -0.16015625 -0.09326172  0.06835938\n",
      "  0.11328125 -0.02124023 -0.09179688  0.10107422  0.10693359 -0.07666016\n",
      "  0.01330566 -0.09277344 -0.25976562 -0.21582031  0.06176758 -0.0267334\n",
      "  0.1796875   0.1953125   0.08300781  0.03015137  0.09375    -0.03588867\n",
      "  0.12890625  0.33007812 -0.30078125 -0.00604248 -0.23632812  0.00343323\n",
      " -0.06738281  0.04272461  0.16699219 -0.03442383  0.171875    0.21191406]\n",
      "\n"
     ]
    }
   ],
   "source": [
    "for index, rep in feature_vectors.items():\n",
    "    print(f\"Sentence: {corpus[index]} -> Representation: {rep}\")\n",
    "    print()"
   ]
  },
  {
   "cell_type": "markdown",
   "id": "df4ba2dd",
   "metadata": {
    "slideshow": {
     "slide_type": "slide"
    }
   },
   "source": [
    "#### CBOW in Scale"
   ]
  },
  {
   "cell_type": "code",
   "execution_count": 208,
   "id": "ea6f49fa",
   "metadata": {
    "slideshow": {
     "slide_type": "fragment"
    }
   },
   "outputs": [],
   "source": [
    "cbow = Word2Vec(corpus, vector_size=10, window=2, min_count=2, sg=0)\n",
    "vocab = cbow.wv.index_to_key"
   ]
  },
  {
   "cell_type": "code",
   "execution_count": 209,
   "id": "3b3bfd02",
   "metadata": {
    "slideshow": {
     "slide_type": "fragment"
    }
   },
   "outputs": [],
   "source": [
    "def get_mean_vector(model, sentence):\n",
    "    words = [word for word in sentence if word in vocab]\n",
    "    if len(words) >= 1:\n",
    "        return np.mean(model.wv[words], axis=0)\n",
    "    return np.zeros((10,)) "
   ]
  },
  {
   "cell_type": "code",
   "execution_count": 210,
   "id": "511cbc22",
   "metadata": {
    "slideshow": {
     "slide_type": "subslide"
    }
   },
   "outputs": [
    {
     "name": "stdout",
     "output_type": "stream",
     "text": [
      "girl styling hair\n"
     ]
    },
    {
     "data": {
      "text/plain": [
       "array([-0.00123658,  0.01716655,  0.01564999,  0.00385812, -0.00993243,\n",
       "       -0.01752137,  0.024432  ,  0.01868356, -0.03467562, -0.01247166],\n",
       "      dtype=float32)"
      ]
     },
     "execution_count": 210,
     "metadata": {},
     "output_type": "execute_result"
    }
   ],
   "source": [
    "print(corpus[0])\n",
    "get_mean_vector(cbow, corpus[0])"
   ]
  },
  {
   "cell_type": "code",
   "execution_count": 211,
   "id": "b392e502",
   "metadata": {
    "slideshow": {
     "slide_type": "subslide"
    }
   },
   "outputs": [
    {
     "name": "stdout",
     "output_type": "stream",
     "text": [
      "girl brushing hair\n"
     ]
    },
    {
     "data": {
      "text/plain": [
       "array([-0.00115297,  0.02150196,  0.01360718,  0.00198636, -0.00148183,\n",
       "       -0.02254562,  0.0158028 ,  0.02784811, -0.03260864, -0.0148199 ],\n",
       "      dtype=float32)"
      ]
     },
     "execution_count": 211,
     "metadata": {},
     "output_type": "execute_result"
    }
   ],
   "source": [
    "print(corpus[1])\n",
    "get_mean_vector(cbow, corpus[1])"
   ]
  },
  {
   "cell_type": "code",
   "execution_count": 212,
   "id": "f3e117ad",
   "metadata": {
    "slideshow": {
     "slide_type": "subslide"
    }
   },
   "outputs": [
    {
     "name": "stdout",
     "output_type": "stream",
     "text": [
      "teaching nlp\n"
     ]
    },
    {
     "data": {
      "text/plain": [
       "array([-2.6223214e-02,  2.5883056e-02, -7.9442095e-03, -4.8076957e-03,\n",
       "       -2.6592361e-03, -1.6909322e-02,  3.4925006e-02,  5.6221252e-05,\n",
       "       -2.6520673e-02,  1.1542794e-02], dtype=float32)"
      ]
     },
     "execution_count": 212,
     "metadata": {},
     "output_type": "execute_result"
    }
   ],
   "source": [
    "print(corpus[2])\n",
    "get_mean_vector(cbow, corpus[2])"
   ]
  },
  {
   "cell_type": "code",
   "execution_count": 213,
   "id": "37104c3c",
   "metadata": {
    "slideshow": {
     "slide_type": "subslide"
    }
   },
   "outputs": [],
   "source": [
    "cbow_features = {}\n",
    "for i in range(len(corpus)):\n",
    "    cbow_features[i] = get_mean_vector(cbow,corpus[i])"
   ]
  },
  {
   "cell_type": "markdown",
   "id": "0fd1724f",
   "metadata": {
    "slideshow": {
     "slide_type": "slide"
    }
   },
   "source": [
    "#### Skipgram in Scale"
   ]
  },
  {
   "cell_type": "code",
   "execution_count": 214,
   "id": "d0df2545",
   "metadata": {
    "slideshow": {
     "slide_type": "fragment"
    }
   },
   "outputs": [],
   "source": [
    "sg = Word2Vec(corpus, vector_size=10, window=2, min_count=2, sg=1)\n",
    "vocab = sg.wv.index_to_key"
   ]
  },
  {
   "cell_type": "code",
   "execution_count": 215,
   "id": "1f6782e8",
   "metadata": {
    "slideshow": {
     "slide_type": "fragment"
    }
   },
   "outputs": [],
   "source": [
    "def get_mean_vector(model, sentence):\n",
    "    words = [word for word in sentence if word in vocab]\n",
    "    if len(words) >= 1:\n",
    "        return np.mean(model.wv[words], axis=0)\n",
    "    return np.zeros((10,)) "
   ]
  },
  {
   "cell_type": "code",
   "execution_count": 216,
   "id": "adeb97fd",
   "metadata": {
    "slideshow": {
     "slide_type": "subslide"
    }
   },
   "outputs": [
    {
     "name": "stdout",
     "output_type": "stream",
     "text": [
      "girl styling hair\n"
     ]
    },
    {
     "data": {
      "text/plain": [
       "array([-0.00123695,  0.01718122,  0.01563962,  0.00389477, -0.00996329,\n",
       "       -0.01754478,  0.02445518,  0.01871149, -0.0347101 , -0.01247996],\n",
       "      dtype=float32)"
      ]
     },
     "execution_count": 216,
     "metadata": {},
     "output_type": "execute_result"
    }
   ],
   "source": [
    "print(corpus[0])\n",
    "f_1_sg = get_mean_vector(sg, corpus[0])\n",
    "f_1_sg"
   ]
  },
  {
   "cell_type": "code",
   "execution_count": 217,
   "id": "7da5fb0e",
   "metadata": {
    "slideshow": {
     "slide_type": "subslide"
    }
   },
   "outputs": [
    {
     "name": "stdout",
     "output_type": "stream",
     "text": [
      "girl brushing hair\n"
     ]
    },
    {
     "data": {
      "text/plain": [
       "array([-0.00115417,  0.02151943,  0.01359758,  0.00202882, -0.00151685,\n",
       "       -0.02257293,  0.01583036,  0.02787986, -0.0326482 , -0.01482794],\n",
       "      dtype=float32)"
      ]
     },
     "execution_count": 217,
     "metadata": {},
     "output_type": "execute_result"
    }
   ],
   "source": [
    "print(corpus[1])\n",
    "f_2_sg = get_mean_vector(sg, corpus[1])\n",
    "f_2_sg"
   ]
  },
  {
   "cell_type": "code",
   "execution_count": 218,
   "id": "4d99e292",
   "metadata": {
    "slideshow": {
     "slide_type": "subslide"
    }
   },
   "outputs": [
    {
     "name": "stdout",
     "output_type": "stream",
     "text": [
      "teaching nlp\n"
     ]
    },
    {
     "data": {
      "text/plain": [
       "array([-2.6208855e-02,  2.5894813e-02, -7.9556508e-03, -4.7582248e-03,\n",
       "       -2.6941849e-03, -1.6939800e-02,  3.4965374e-02,  7.6026969e-05,\n",
       "       -2.6574034e-02,  1.1513758e-02], dtype=float32)"
      ]
     },
     "execution_count": 218,
     "metadata": {},
     "output_type": "execute_result"
    }
   ],
   "source": [
    "print(corpus[2])\n",
    "f_3_sg = get_mean_vector(sg, corpus[2])\n",
    "f_3_sg"
   ]
  },
  {
   "cell_type": "code",
   "execution_count": 219,
   "id": "9887c494",
   "metadata": {
    "slideshow": {
     "slide_type": "subslide"
    }
   },
   "outputs": [],
   "source": [
    "skg_features = {}\n",
    "for i in range(len(corpus)):\n",
    "    skg_features[i] = get_mean_vector(sg,corpus[i])"
   ]
  },
  {
   "cell_type": "markdown",
   "id": "fd86caa4",
   "metadata": {
    "slideshow": {
     "slide_type": "slide"
    }
   },
   "source": [
    "#### Glove Representation"
   ]
  },
  {
   "cell_type": "code",
   "execution_count": 220,
   "id": "3102a6c4",
   "metadata": {
    "slideshow": {
     "slide_type": "fragment"
    }
   },
   "outputs": [],
   "source": [
    "glove_model = api.load(\"glove-wiki-gigaword-100\")"
   ]
  },
  {
   "cell_type": "code",
   "execution_count": 221,
   "id": "01da5ab0",
   "metadata": {
    "slideshow": {
     "slide_type": "fragment"
    }
   },
   "outputs": [],
   "source": [
    "def compute_glove_embedding(sentence):\n",
    "    tokens = sentence.split()\n",
    "    return sum([glove_model[word] for word in tokens if word in glove_model]) / len(tokens)"
   ]
  },
  {
   "cell_type": "code",
   "execution_count": 222,
   "id": "90aee627",
   "metadata": {
    "slideshow": {
     "slide_type": "subslide"
    }
   },
   "outputs": [
    {
     "data": {
      "text/plain": [
       "array([ 2.57869989e-01,  1.17170669e-01,  2.07236648e-01, -3.37153345e-01,\n",
       "       -1.67936683e-02,  1.81887344e-01,  2.19492331e-01,  8.73150051e-01,\n",
       "       -1.03791006e-01,  6.12100005e-01, -2.59686679e-01, -7.51099959e-02,\n",
       "        5.15866697e-01,  6.21613324e-01,  5.81789970e-01,  8.18459988e-01,\n",
       "       -2.90603310e-01, -9.26336572e-02,  3.56406689e-01,  4.06971693e-01,\n",
       "       -2.85504311e-01, -2.09813356e-01, -1.62178174e-01, -2.52899528e-03,\n",
       "        5.22166669e-01,  8.15616608e-01, -2.47236684e-01, -9.54693317e-01,\n",
       "       -1.06666677e-01, -1.28159985e-01,  4.34076667e-01,  1.09366083e-03,\n",
       "       -6.13533072e-02, -2.25856662e-01,  1.65414989e-01,  1.11883394e-02,\n",
       "       -3.06544721e-01, -6.97523355e-02,  1.83693334e-01, -1.57739997e-01,\n",
       "        1.18173338e-01, -4.91090029e-01,  6.81000948e-03, -2.71396667e-01,\n",
       "       -4.86207962e-01,  5.24813354e-01, -1.15819998e-01,  4.84580010e-01,\n",
       "        3.89294654e-01, -3.61416668e-01, -8.16496313e-02, -7.75516704e-02,\n",
       "       -4.80466671e-02,  1.14432669e+00, -5.56973331e-02, -1.37633991e+00,\n",
       "       -4.74556684e-01,  4.22099978e-01,  6.18213356e-01,  3.39533389e-02,\n",
       "        8.02413285e-01,  9.80193317e-01, -3.50529999e-01,  5.70820570e-01,\n",
       "        7.19749987e-01, -7.72813335e-02,  6.88283265e-01, -3.73240024e-01,\n",
       "       -1.05513342e-01, -1.33369965e-02,  1.92351341e-01,  2.42126659e-01,\n",
       "       -1.65122002e-01, -2.96600070e-02,  1.39169991e-01,  3.05000152e-02,\n",
       "       -3.13266665e-02,  4.45300005e-02, -1.01866722e-02, -7.93406665e-01,\n",
       "       -4.22369987e-01, -1.35523319e-01,  2.93080360e-01, -1.59700066e-02,\n",
       "       -9.40293312e-01, -6.10222161e-01, -2.97106653e-01, -1.52220011e-01,\n",
       "       -5.01760662e-01, -8.31299946e-02,  3.48693341e-01, -3.91093343e-01,\n",
       "        2.23676994e-01, -2.99998999e-01, -1.24006666e-01, -1.36507034e-01,\n",
       "       -1.05995333e+00, -3.27749997e-01,  3.55120033e-01,  2.26220012e-01],\n",
       "      dtype=float32)"
      ]
     },
     "execution_count": 222,
     "metadata": {},
     "output_type": "execute_result"
    }
   ],
   "source": [
    "glove_f_1 = compute_glove_embedding(corpus[0])\n",
    "glove_f_1"
   ]
  },
  {
   "cell_type": "code",
   "execution_count": 223,
   "id": "23953030",
   "metadata": {
    "slideshow": {
     "slide_type": "subslide"
    }
   },
   "outputs": [
    {
     "data": {
      "text/plain": [
       "array([ 0.10750666,  0.10259   ,  0.15086333, -0.27907065, -0.13613367,\n",
       "        0.49816403, -0.18938434,  0.94424003, -0.082729  ,  0.36481366,\n",
       "       -0.297629  ,  0.00647333,  0.6938467 ,  0.69576335,  0.48115668,\n",
       "        0.40966   , -0.18503666, -0.08548499,  0.30274335,  0.189215  ,\n",
       "       -0.37898406,  0.41188002, -0.09144149,  0.14110333,  0.77831   ,\n",
       "        1.20692   , -0.18408   , -0.90574336, -0.12859668, -0.04472332,\n",
       "        0.30469665, -0.10487   ,  0.23751335, -0.03713667, -0.07275033,\n",
       "       -0.1904472 , -0.5188367 , -0.3628583 ,  0.29274833,  0.05374667,\n",
       "       -0.3565333 , -0.44817665, -0.16572966, -0.46209335, -0.44281802,\n",
       "        0.25220335, -0.32665667,  0.4054297 ,  0.37659767, -0.48613   ,\n",
       "        0.01273667,  0.056176  ,  0.28740668,  1.2866    , -0.286464  ,\n",
       "       -1.136407  , -0.34596333,  0.24043   ,  0.496953  ,  0.25868702,\n",
       "        0.70909   ,  0.8578666 , -0.25586668,  0.38857388,  0.5330073 ,\n",
       "        0.13644867,  0.639379  , -0.10596267,  0.05857332, -0.06876333,\n",
       "        0.08477   ,  0.37785998,  0.00147467, -0.02008001,  0.12278333,\n",
       "        0.30210003, -0.17535333, -0.19838333, -0.06844234, -0.34107998,\n",
       "       -0.05348566, -0.06639665,  0.098797  , -0.02405667, -0.8668633 ,\n",
       "       -0.7723934 , -0.26849   ,  0.44583333, -0.20642066,  0.03186333,\n",
       "        0.06787334, -0.14647333,  0.12127665, -0.19028668, -0.3029333 ,\n",
       "       -0.23685001, -0.71954995, -0.10903901,  0.05274333,  0.20194001],\n",
       "      dtype=float32)"
      ]
     },
     "execution_count": 223,
     "metadata": {},
     "output_type": "execute_result"
    }
   ],
   "source": [
    "glove_f_2 = compute_glove_embedding(corpus[1])\n",
    "glove_f_2"
   ]
  },
  {
   "cell_type": "code",
   "execution_count": 224,
   "id": "c9ba1afb",
   "metadata": {
    "slideshow": {
     "slide_type": "subslide"
    }
   },
   "outputs": [
    {
     "data": {
      "text/plain": [
       "array([ 0.1944    ,  0.87540495, -0.71891   ,  0.15180501,  0.14937499,\n",
       "       -0.01243502,  0.5436245 , -0.3550425 ,  0.09663001,  0.4289365 ,\n",
       "       -0.20771049, -0.6017    , -0.139855  ,  0.61508   ,  0.352325  ,\n",
       "       -0.48890498,  0.314965  ,  0.02661   ,  0.302605  ,  0.49595   ,\n",
       "       -0.71871996,  0.0081696 ,  0.400455  , -0.12367701, -0.40079498,\n",
       "       -0.370865  , -0.0253885 , -0.04298502, -0.328495  ,  0.374865  ,\n",
       "       -1.099     ,  0.175475  , -0.05109   , -0.1075275 , -0.50435   ,\n",
       "        0.23069   , -0.6331125 ,  0.40295   , -0.34845   , -0.36143   ,\n",
       "       -0.563055  ,  0.08287501,  0.039091  , -0.393519  , -0.74593   ,\n",
       "       -0.25984502, -0.010485  , -0.25831002,  0.051654  , -0.13392001,\n",
       "       -0.2321375 , -0.324555  , -0.211165  ,  0.15131499, -0.103782  ,\n",
       "       -0.04820001,  0.46266   , -0.57432497,  0.571005  , -0.0948985 ,\n",
       "        0.50865996, -0.33578503,  0.064917  , -0.44766   ,  0.042868  ,\n",
       "        0.185245  ,  0.090965  , -0.1204805 ,  0.28327748,  0.730295  ,\n",
       "       -0.1096725 ,  0.59169   ,  0.179762  ,  0.23359   , -0.2800585 ,\n",
       "       -0.530575  , -0.42497998,  0.03052   , -0.17778349, -0.18306   ,\n",
       "       -0.433425  , -0.41214117, -0.07389499, -0.39972502, -0.878035  ,\n",
       "        0.4316065 ,  0.60536253, -0.02796   , -0.1765005 ,  0.14884001,\n",
       "        0.091048  , -0.16248   ,  0.33841   ,  0.57991004, -0.48082   ,\n",
       "       -0.658885  , -0.744165  , -0.56743   ,  0.41390997,  0.54902   ],\n",
       "      dtype=float32)"
      ]
     },
     "execution_count": 224,
     "metadata": {},
     "output_type": "execute_result"
    }
   ],
   "source": [
    "glove_f_3 = compute_glove_embedding(corpus[2])\n",
    "glove_f_3"
   ]
  },
  {
   "cell_type": "markdown",
   "id": "b74a8ace",
   "metadata": {
    "slideshow": {
     "slide_type": "slide"
    }
   },
   "source": [
    "#### Vector Similarity"
   ]
  },
  {
   "cell_type": "code",
   "execution_count": 225,
   "id": "c76721a8",
   "metadata": {
    "slideshow": {
     "slide_type": "subslide"
    }
   },
   "outputs": [],
   "source": [
    "def get_cosine_similarity(feature_vec_1, feature_vec_2):    \n",
    "    return cosine_similarity(feature_vec_1.reshape(1, -1), feature_vec_2.reshape(1, -1))[0][0]"
   ]
  },
  {
   "cell_type": "markdown",
   "id": "c0bd47e0",
   "metadata": {
    "slideshow": {
     "slide_type": "slide"
    }
   },
   "source": [
    "#### Bag of Words Representation"
   ]
  },
  {
   "cell_type": "code",
   "execution_count": 226,
   "id": "730577a0",
   "metadata": {
    "slideshow": {
     "slide_type": "fragment"
    }
   },
   "outputs": [
    {
     "name": "stdout",
     "output_type": "stream",
     "text": [
      "Cosine Similiarity between `girl styling hair` and `girl brushing hair`: 0.6666666666666669\n"
     ]
    }
   ],
   "source": [
    "print(f\"Cosine Similiarity between `{corpus[0]}` and `{corpus[1]}`: {get_cosine_similarity(count_v_features[0],count_v_features[1])}\")"
   ]
  },
  {
   "cell_type": "code",
   "execution_count": 227,
   "id": "61fa02fb",
   "metadata": {
    "slideshow": {
     "slide_type": "fragment"
    }
   },
   "outputs": [
    {
     "name": "stdout",
     "output_type": "stream",
     "text": [
      "Cosine Similiarity between `girl styling hair` and `teaching nlp`: 0.0\n"
     ]
    }
   ],
   "source": [
    "print(f\"Cosine Similiarity between `{corpus[0]}` and `{corpus[2]}`: {get_cosine_similarity(count_v_features[0],count_v_features[2])}\")"
   ]
  },
  {
   "cell_type": "code",
   "execution_count": 228,
   "id": "73684479",
   "metadata": {
    "slideshow": {
     "slide_type": "fragment"
    }
   },
   "outputs": [
    {
     "name": "stdout",
     "output_type": "stream",
     "text": [
      "Cosine Similiarity between `girl brushing hair` and `teaching nlp`: 0.0\n"
     ]
    }
   ],
   "source": [
    "print(f\"Cosine Similiarity between `{corpus[1]}` and `{corpus[2]}`: {get_cosine_similarity(count_v_features[1],count_v_features[2])}\")"
   ]
  },
  {
   "cell_type": "markdown",
   "id": "1d59c0d0",
   "metadata": {
    "slideshow": {
     "slide_type": "slide"
    }
   },
   "source": [
    "#### TF-IDF Results"
   ]
  },
  {
   "cell_type": "code",
   "execution_count": 229,
   "id": "497c2f13",
   "metadata": {
    "slideshow": {
     "slide_type": "fragment"
    }
   },
   "outputs": [
    {
     "name": "stdout",
     "output_type": "stream",
     "text": [
      "Cosine Similiarity between `girl styling hair` and `girl brushing hair`: 0.27829080386902655\n"
     ]
    }
   ],
   "source": [
    "print(f\"Cosine Similiarity between `{corpus[0]}` and `{corpus[1]}`: {get_cosine_similarity(tf_idf_feature_vectors[0],tf_idf_feature_vectors[1])}\")"
   ]
  },
  {
   "cell_type": "code",
   "execution_count": 230,
   "id": "4a904423",
   "metadata": {
    "slideshow": {
     "slide_type": "fragment"
    }
   },
   "outputs": [
    {
     "name": "stdout",
     "output_type": "stream",
     "text": [
      "Cosine Similiarity between `girl styling hair` and `teaching nlp`: 0.0\n"
     ]
    }
   ],
   "source": [
    "print(f\"Cosine Similiarity between `{corpus[0]}` and `{corpus[2]}`: {get_cosine_similarity(tf_idf_feature_vectors[0],tf_idf_feature_vectors[2])}\")"
   ]
  },
  {
   "cell_type": "code",
   "execution_count": 231,
   "id": "7d09dfc3",
   "metadata": {
    "slideshow": {
     "slide_type": "fragment"
    }
   },
   "outputs": [
    {
     "name": "stdout",
     "output_type": "stream",
     "text": [
      "Cosine Similiarity between `girl brushing hair` and `teaching nlp`: 0.0\n"
     ]
    }
   ],
   "source": [
    "print(f\"Cosine Similiarity between `{corpus[1]}` and `{corpus[2]}`: {get_cosine_similarity(tf_idf_feature_vectors[1],tf_idf_feature_vectors[2])}\")"
   ]
  },
  {
   "cell_type": "markdown",
   "id": "c49a0618",
   "metadata": {
    "slideshow": {
     "slide_type": "slide"
    }
   },
   "source": [
    "#### CBOW Results"
   ]
  },
  {
   "cell_type": "code",
   "execution_count": 232,
   "id": "11a778c1",
   "metadata": {
    "slideshow": {
     "slide_type": "fragment"
    }
   },
   "outputs": [
    {
     "name": "stdout",
     "output_type": "stream",
     "text": [
      "Cosine Similiarity between `girl styling hair` and `girl brushing hair`: 0.9571976661682129\n"
     ]
    }
   ],
   "source": [
    "print(f\"Cosine Similiarity between `{corpus[0]}` and `{corpus[1]}`: {get_cosine_similarity(cbow_features[0],cbow_features[1])}\")"
   ]
  },
  {
   "cell_type": "code",
   "execution_count": 233,
   "id": "e8919940",
   "metadata": {
    "slideshow": {
     "slide_type": "fragment"
    }
   },
   "outputs": [
    {
     "name": "stdout",
     "output_type": "stream",
     "text": [
      "Cosine Similiarity between `girl styling hair` and `teaching nlp`: 0.6496812701225281\n"
     ]
    }
   ],
   "source": [
    " print(f\"Cosine Similiarity between `{corpus[0]}` and `{corpus[2]}`: {get_cosine_similarity(cbow_features[0],cbow_features[2])}\")"
   ]
  },
  {
   "cell_type": "code",
   "execution_count": 234,
   "id": "3a1eaeb9",
   "metadata": {
    "slideshow": {
     "slide_type": "fragment"
    }
   },
   "outputs": [
    {
     "name": "stdout",
     "output_type": "stream",
     "text": [
      "Cosine Similiarity between `girl brushing hair` and `teaching nlp`: 0.5791294574737549\n"
     ]
    }
   ],
   "source": [
    " print(f\"Cosine Similiarity between `{corpus[1]}` and `{corpus[2]}`: {get_cosine_similarity(cbow_features[1],cbow_features[2])}\")"
   ]
  },
  {
   "cell_type": "markdown",
   "id": "4242cc42",
   "metadata": {
    "slideshow": {
     "slide_type": "slide"
    }
   },
   "source": [
    "#### Skipgram Results"
   ]
  },
  {
   "cell_type": "code",
   "execution_count": 235,
   "id": "41d80e12",
   "metadata": {
    "slideshow": {
     "slide_type": "fragment"
    }
   },
   "outputs": [
    {
     "name": "stdout",
     "output_type": "stream",
     "text": [
      "Cosine Similiarity between `girl styling hair` and `girl brushing hair`: 0.9572986364364624\n"
     ]
    }
   ],
   "source": [
    "print(f\"Cosine Similiarity between `{corpus[0]}` and `{corpus[1]}`: {get_cosine_similarity(skg_features[0],skg_features[1])}\")"
   ]
  },
  {
   "cell_type": "code",
   "execution_count": 236,
   "id": "19bbca13",
   "metadata": {
    "slideshow": {
     "slide_type": "fragment"
    }
   },
   "outputs": [
    {
     "name": "stdout",
     "output_type": "stream",
     "text": [
      "Cosine Similiarity between `girl styling hair` and `teaching nlp`: 0.6505264639854431\n"
     ]
    }
   ],
   "source": [
    "print(f\"Cosine Similiarity between `{corpus[0]}` and `{corpus[2]}`: {get_cosine_similarity(skg_features[0],skg_features[2])}\")"
   ]
  },
  {
   "cell_type": "code",
   "execution_count": 237,
   "id": "53b2177f",
   "metadata": {
    "slideshow": {
     "slide_type": "fragment"
    }
   },
   "outputs": [
    {
     "name": "stdout",
     "output_type": "stream",
     "text": [
      "Cosine Similiarity between `girl brushing hair` and `teaching nlp`: 0.5800262689590454\n"
     ]
    }
   ],
   "source": [
    "print(f\"Cosine Similiarity between `{corpus[1]}` and `{corpus[2]}`: {get_cosine_similarity(skg_features[1],skg_features[2])}\")"
   ]
  },
  {
   "cell_type": "markdown",
   "id": "58c8860e",
   "metadata": {
    "slideshow": {
     "slide_type": "slide"
    }
   },
   "source": [
    "#### Glove Results"
   ]
  },
  {
   "cell_type": "code",
   "execution_count": 238,
   "id": "2b9189b6",
   "metadata": {
    "slideshow": {
     "slide_type": "fragment"
    }
   },
   "outputs": [
    {
     "name": "stdout",
     "output_type": "stream",
     "text": [
      "Cosine Similiarity between `girl styling hair` and `girl brushing hair`: 0.881434440612793\n"
     ]
    }
   ],
   "source": [
    "print(f\"Cosine Similiarity between `{corpus[0]}` and `{corpus[1]}`: {get_cosine_similarity(glove_f_1,glove_f_2)}\")"
   ]
  },
  {
   "cell_type": "code",
   "execution_count": 239,
   "id": "2eb9423c",
   "metadata": {
    "slideshow": {
     "slide_type": "fragment"
    }
   },
   "outputs": [
    {
     "name": "stdout",
     "output_type": "stream",
     "text": [
      "Cosine Similiarity between `girl styling hair` and `teaching nlp`: 0.12707242369651794\n"
     ]
    }
   ],
   "source": [
    "print(f\"Cosine Similiarity between `{corpus[0]}` and `{corpus[2]}`: {get_cosine_similarity(glove_f_1,glove_f_3)}\")"
   ]
  },
  {
   "cell_type": "code",
   "execution_count": 240,
   "id": "d5e1956d",
   "metadata": {
    "slideshow": {
     "slide_type": "fragment"
    }
   },
   "outputs": [
    {
     "name": "stdout",
     "output_type": "stream",
     "text": [
      "Cosine Similiarity between `girl brushing hair` and `teaching nlp`: 0.0933074802160263\n"
     ]
    }
   ],
   "source": [
    "print(f\"Cosine Similiarity between `{corpus[1]}` and `{corpus[2]}`: {get_cosine_similarity(glove_f_2,glove_f_3)}\")"
   ]
  }
 ],
 "metadata": {
  "celltoolbar": "Slideshow",
  "kernelspec": {
   "display_name": "Python 3 (ipykernel)",
   "language": "python",
   "name": "python3"
  },
  "language_info": {
   "codemirror_mode": {
    "name": "ipython",
    "version": 3
   },
   "file_extension": ".py",
   "mimetype": "text/x-python",
   "name": "python",
   "nbconvert_exporter": "python",
   "pygments_lexer": "ipython3",
   "version": "3.11.4"
  }
 },
 "nbformat": 4,
 "nbformat_minor": 5
}
